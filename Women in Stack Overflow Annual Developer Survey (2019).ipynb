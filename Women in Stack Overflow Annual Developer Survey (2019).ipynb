{
 "cells": [
  {
   "cell_type": "markdown",
   "metadata": {},
   "source": [
    "# Women in Stack Overflow"
   ]
  },
  {
   "cell_type": "markdown",
   "metadata": {},
   "source": [
    "Stack Overflow (SO) is a well-known website for all things related to code. Whether you're a newbie or a seasoned developer, chances are you've spent some quality time scrambling around people's Q&As for insight on how to unstuck you on your code.\n",
    "\n",
    "In [their words](https://stackoverflow.com/company):\n",
    ">Founded in 2008, Stack Overflow is the largest, most trusted online community for anyone that codes to learn, share their knowledge, and build their careers. **More than 50 million unique visitors** come to Stack Overflow **each month** to help solve coding problems, develop new skills, and find job opportunities.\n",
    "\n",
    "Another great thing about SO is the [Stack Overflow Annual Developer Survey](https://insights.stackoverflow.com/survey). Every year since 2011, they open the survey to anyone willing to commit their time to it.\n",
    "In addition to SO's insights, this data collected makes it possible for anyone else to get ideas about the community, its members and people that contribute to the website.\n",
    "\n",
    "After a little while of constantly visiting SO as I was learning new languages, features, ways to visualize data, I started wondering about women involved with tech. The data collected by the Annual Developer Survey from 2019 is a good start to get some insights.  \n",
    "The next notebook comprises some analysis about\n",
    " - [Gender](#Gender)  \n",
    " - [Employment](#Employment)  \n",
    " - [Work as Developers](#Work-as-Developers)  \n",
    " - [Formal Education](#Formal-Education)  \n",
    " - [Country](#Country)  \n",
    " - [Ethnicity](#Ethnicity)  \n",
    " - [Age vs. Social Media](#Age-vs.-Social-Media)\n",
    " - [Women vs. Stack Overflow](#Women-vs.-Stack-Overflow)\n",
    " \n",
    "The survey and questions asked are available in this [pdf](data/so_survey_2019.pdf)."
   ]
  },
  {
   "cell_type": "markdown",
   "metadata": {},
   "source": [
    "### Import libraries and helper functions"
   ]
  },
  {
   "cell_type": "code",
   "execution_count": 2,
   "metadata": {},
   "outputs": [],
   "source": [
    "import matplotlib\n",
    "import matplotlib.pyplot as plt\n",
    "import numpy as np\n",
    "import pandas as pd\n",
    "import re\n",
    "import seaborn as sns\n",
    "from helpers import search_question, get_probs, plot_stats\n",
    "%matplotlib inline"
   ]
  },
  {
   "cell_type": "code",
   "execution_count": 3,
   "metadata": {},
   "outputs": [
    {
     "name": "stdout",
     "output_type": "stream",
     "text": [
      "matplotlib version: 3.1.3\n",
      "numpy version: 1.18.1\n",
      "pandas version: 1.0.1\n",
      "re version: 2.2.1\n",
      "seaborn version: 0.10.0\n"
     ]
    }
   ],
   "source": [
    "print(\"matplotlib version:\", matplotlib.__version__)\n",
    "print(\"numpy version:\", np.__version__)\n",
    "print(\"pandas version:\", pd.__version__)\n",
    "print(\"re version:\", re.__version__)\n",
    "print(\"seaborn version:\", sns.__version__)"
   ]
  },
  {
   "cell_type": "markdown",
   "metadata": {},
   "source": [
    "### Import and show the data\n",
    "\n",
    "Read the data and schema of the survey, store them in variables and show the first five rows."
   ]
  },
  {
   "cell_type": "code",
   "execution_count": 4,
   "metadata": {},
   "outputs": [
    {
     "data": {
      "text/html": [
       "<div>\n",
       "<style scoped>\n",
       "    .dataframe tbody tr th:only-of-type {\n",
       "        vertical-align: middle;\n",
       "    }\n",
       "\n",
       "    .dataframe tbody tr th {\n",
       "        vertical-align: top;\n",
       "    }\n",
       "\n",
       "    .dataframe thead th {\n",
       "        text-align: right;\n",
       "    }\n",
       "</style>\n",
       "<table border=\"1\" class=\"dataframe\">\n",
       "  <thead>\n",
       "    <tr style=\"text-align: right;\">\n",
       "      <th></th>\n",
       "      <th>Respondent</th>\n",
       "      <th>MainBranch</th>\n",
       "      <th>Hobbyist</th>\n",
       "      <th>OpenSourcer</th>\n",
       "      <th>OpenSource</th>\n",
       "      <th>Employment</th>\n",
       "      <th>Country</th>\n",
       "      <th>Student</th>\n",
       "      <th>EdLevel</th>\n",
       "      <th>UndergradMajor</th>\n",
       "      <th>...</th>\n",
       "      <th>WelcomeChange</th>\n",
       "      <th>SONewContent</th>\n",
       "      <th>Age</th>\n",
       "      <th>Gender</th>\n",
       "      <th>Trans</th>\n",
       "      <th>Sexuality</th>\n",
       "      <th>Ethnicity</th>\n",
       "      <th>Dependents</th>\n",
       "      <th>SurveyLength</th>\n",
       "      <th>SurveyEase</th>\n",
       "    </tr>\n",
       "  </thead>\n",
       "  <tbody>\n",
       "    <tr>\n",
       "      <th>0</th>\n",
       "      <td>1</td>\n",
       "      <td>I am a student who is learning to code</td>\n",
       "      <td>Yes</td>\n",
       "      <td>Never</td>\n",
       "      <td>The quality of OSS and closed source software ...</td>\n",
       "      <td>Not employed, and not looking for work</td>\n",
       "      <td>United Kingdom</td>\n",
       "      <td>No</td>\n",
       "      <td>Primary/elementary school</td>\n",
       "      <td>NaN</td>\n",
       "      <td>...</td>\n",
       "      <td>Just as welcome now as I felt last year</td>\n",
       "      <td>Tech articles written by other developers;Indu...</td>\n",
       "      <td>14.0</td>\n",
       "      <td>Man</td>\n",
       "      <td>No</td>\n",
       "      <td>Straight / Heterosexual</td>\n",
       "      <td>NaN</td>\n",
       "      <td>No</td>\n",
       "      <td>Appropriate in length</td>\n",
       "      <td>Neither easy nor difficult</td>\n",
       "    </tr>\n",
       "    <tr>\n",
       "      <th>1</th>\n",
       "      <td>2</td>\n",
       "      <td>I am a student who is learning to code</td>\n",
       "      <td>No</td>\n",
       "      <td>Less than once per year</td>\n",
       "      <td>The quality of OSS and closed source software ...</td>\n",
       "      <td>Not employed, but looking for work</td>\n",
       "      <td>Bosnia and Herzegovina</td>\n",
       "      <td>Yes, full-time</td>\n",
       "      <td>Secondary school (e.g. American high school, G...</td>\n",
       "      <td>NaN</td>\n",
       "      <td>...</td>\n",
       "      <td>Just as welcome now as I felt last year</td>\n",
       "      <td>Tech articles written by other developers;Indu...</td>\n",
       "      <td>19.0</td>\n",
       "      <td>Man</td>\n",
       "      <td>No</td>\n",
       "      <td>Straight / Heterosexual</td>\n",
       "      <td>NaN</td>\n",
       "      <td>No</td>\n",
       "      <td>Appropriate in length</td>\n",
       "      <td>Neither easy nor difficult</td>\n",
       "    </tr>\n",
       "    <tr>\n",
       "      <th>2</th>\n",
       "      <td>3</td>\n",
       "      <td>I am not primarily a developer, but I write co...</td>\n",
       "      <td>Yes</td>\n",
       "      <td>Never</td>\n",
       "      <td>The quality of OSS and closed source software ...</td>\n",
       "      <td>Employed full-time</td>\n",
       "      <td>Thailand</td>\n",
       "      <td>No</td>\n",
       "      <td>Bachelor’s degree (BA, BS, B.Eng., etc.)</td>\n",
       "      <td>Web development or web design</td>\n",
       "      <td>...</td>\n",
       "      <td>Just as welcome now as I felt last year</td>\n",
       "      <td>Tech meetups or events in your area;Courses on...</td>\n",
       "      <td>28.0</td>\n",
       "      <td>Man</td>\n",
       "      <td>No</td>\n",
       "      <td>Straight / Heterosexual</td>\n",
       "      <td>NaN</td>\n",
       "      <td>Yes</td>\n",
       "      <td>Appropriate in length</td>\n",
       "      <td>Neither easy nor difficult</td>\n",
       "    </tr>\n",
       "    <tr>\n",
       "      <th>3</th>\n",
       "      <td>4</td>\n",
       "      <td>I am a developer by profession</td>\n",
       "      <td>No</td>\n",
       "      <td>Never</td>\n",
       "      <td>The quality of OSS and closed source software ...</td>\n",
       "      <td>Employed full-time</td>\n",
       "      <td>United States</td>\n",
       "      <td>No</td>\n",
       "      <td>Bachelor’s degree (BA, BS, B.Eng., etc.)</td>\n",
       "      <td>Computer science, computer engineering, or sof...</td>\n",
       "      <td>...</td>\n",
       "      <td>Just as welcome now as I felt last year</td>\n",
       "      <td>Tech articles written by other developers;Indu...</td>\n",
       "      <td>22.0</td>\n",
       "      <td>Man</td>\n",
       "      <td>No</td>\n",
       "      <td>Straight / Heterosexual</td>\n",
       "      <td>White or of European descent</td>\n",
       "      <td>No</td>\n",
       "      <td>Appropriate in length</td>\n",
       "      <td>Easy</td>\n",
       "    </tr>\n",
       "    <tr>\n",
       "      <th>4</th>\n",
       "      <td>5</td>\n",
       "      <td>I am a developer by profession</td>\n",
       "      <td>Yes</td>\n",
       "      <td>Once a month or more often</td>\n",
       "      <td>OSS is, on average, of HIGHER quality than pro...</td>\n",
       "      <td>Employed full-time</td>\n",
       "      <td>Ukraine</td>\n",
       "      <td>No</td>\n",
       "      <td>Bachelor’s degree (BA, BS, B.Eng., etc.)</td>\n",
       "      <td>Computer science, computer engineering, or sof...</td>\n",
       "      <td>...</td>\n",
       "      <td>Just as welcome now as I felt last year</td>\n",
       "      <td>Tech meetups or events in your area;Courses on...</td>\n",
       "      <td>30.0</td>\n",
       "      <td>Man</td>\n",
       "      <td>No</td>\n",
       "      <td>Straight / Heterosexual</td>\n",
       "      <td>White or of European descent;Multiracial</td>\n",
       "      <td>No</td>\n",
       "      <td>Appropriate in length</td>\n",
       "      <td>Easy</td>\n",
       "    </tr>\n",
       "  </tbody>\n",
       "</table>\n",
       "<p>5 rows × 85 columns</p>\n",
       "</div>"
      ],
      "text/plain": [
       "   Respondent                                         MainBranch Hobbyist  \\\n",
       "0           1             I am a student who is learning to code      Yes   \n",
       "1           2             I am a student who is learning to code       No   \n",
       "2           3  I am not primarily a developer, but I write co...      Yes   \n",
       "3           4                     I am a developer by profession       No   \n",
       "4           5                     I am a developer by profession      Yes   \n",
       "\n",
       "                  OpenSourcer  \\\n",
       "0                       Never   \n",
       "1     Less than once per year   \n",
       "2                       Never   \n",
       "3                       Never   \n",
       "4  Once a month or more often   \n",
       "\n",
       "                                          OpenSource  \\\n",
       "0  The quality of OSS and closed source software ...   \n",
       "1  The quality of OSS and closed source software ...   \n",
       "2  The quality of OSS and closed source software ...   \n",
       "3  The quality of OSS and closed source software ...   \n",
       "4  OSS is, on average, of HIGHER quality than pro...   \n",
       "\n",
       "                               Employment                 Country  \\\n",
       "0  Not employed, and not looking for work          United Kingdom   \n",
       "1      Not employed, but looking for work  Bosnia and Herzegovina   \n",
       "2                      Employed full-time                Thailand   \n",
       "3                      Employed full-time           United States   \n",
       "4                      Employed full-time                 Ukraine   \n",
       "\n",
       "          Student                                            EdLevel  \\\n",
       "0              No                          Primary/elementary school   \n",
       "1  Yes, full-time  Secondary school (e.g. American high school, G...   \n",
       "2              No           Bachelor’s degree (BA, BS, B.Eng., etc.)   \n",
       "3              No           Bachelor’s degree (BA, BS, B.Eng., etc.)   \n",
       "4              No           Bachelor’s degree (BA, BS, B.Eng., etc.)   \n",
       "\n",
       "                                      UndergradMajor  ...  \\\n",
       "0                                                NaN  ...   \n",
       "1                                                NaN  ...   \n",
       "2                      Web development or web design  ...   \n",
       "3  Computer science, computer engineering, or sof...  ...   \n",
       "4  Computer science, computer engineering, or sof...  ...   \n",
       "\n",
       "                             WelcomeChange  \\\n",
       "0  Just as welcome now as I felt last year   \n",
       "1  Just as welcome now as I felt last year   \n",
       "2  Just as welcome now as I felt last year   \n",
       "3  Just as welcome now as I felt last year   \n",
       "4  Just as welcome now as I felt last year   \n",
       "\n",
       "                                        SONewContent   Age Gender Trans  \\\n",
       "0  Tech articles written by other developers;Indu...  14.0    Man    No   \n",
       "1  Tech articles written by other developers;Indu...  19.0    Man    No   \n",
       "2  Tech meetups or events in your area;Courses on...  28.0    Man    No   \n",
       "3  Tech articles written by other developers;Indu...  22.0    Man    No   \n",
       "4  Tech meetups or events in your area;Courses on...  30.0    Man    No   \n",
       "\n",
       "                 Sexuality                                 Ethnicity  \\\n",
       "0  Straight / Heterosexual                                       NaN   \n",
       "1  Straight / Heterosexual                                       NaN   \n",
       "2  Straight / Heterosexual                                       NaN   \n",
       "3  Straight / Heterosexual              White or of European descent   \n",
       "4  Straight / Heterosexual  White or of European descent;Multiracial   \n",
       "\n",
       "  Dependents           SurveyLength                  SurveyEase  \n",
       "0         No  Appropriate in length  Neither easy nor difficult  \n",
       "1         No  Appropriate in length  Neither easy nor difficult  \n",
       "2        Yes  Appropriate in length  Neither easy nor difficult  \n",
       "3         No  Appropriate in length                        Easy  \n",
       "4         No  Appropriate in length                        Easy  \n",
       "\n",
       "[5 rows x 85 columns]"
      ]
     },
     "execution_count": 4,
     "metadata": {},
     "output_type": "execute_result"
    }
   ],
   "source": [
    "df = pd.read_csv('./data/survey_results_public.csv')\n",
    "schema = pd.read_csv('./data/survey_results_schema.csv')\n",
    "df.head()"
   ]
  },
  {
   "cell_type": "markdown",
   "metadata": {},
   "source": [
    "Every row represents a participant's answers.\n",
    "Every column represents a question asked."
   ]
  },
  {
   "cell_type": "code",
   "execution_count": 5,
   "metadata": {},
   "outputs": [],
   "source": [
    "participants, questions = df.shape\n",
    "notes = []\n",
    "notes.append('The survey had {} participants.'.format(participants))"
   ]
  },
  {
   "cell_type": "markdown",
   "metadata": {},
   "source": [
    "As I was analyzing the data, I found it useful to store my notes in a variable to retrieve it at the end.\n",
    "With this I'd avoid to make a mess of the notebook, and also having to come back to every note alongside it.\n",
    "\n",
    "My notes had the next structure:\n",
    "```python\n",
    "notes = []\n",
    "notes.append('string to format'.format(\n",
    "    value_1,\n",
    "    value_2,\n",
    "    value_3,\n",
    "))\n",
    "```   \n",
    "\n",
    "*String to format* was the context where to place the data.  \n",
    "*Values_\\** came from the analysis of the data.  \n",
    "The result was the note: instead of hardcorded results, I'd added context and let the data speak for itself."
   ]
  },
  {
   "cell_type": "markdown",
   "metadata": {},
   "source": [
    "## Gender"
   ]
  },
  {
   "cell_type": "markdown",
   "metadata": {},
   "source": [
    "I wrote the function **search_question** that will search the schema for a given term and retrieve all the questions that match it.\n",
    "This facilitates the task of retrieving columns to analyze them."
   ]
  },
  {
   "cell_type": "code",
   "execution_count": 6,
   "metadata": {},
   "outputs": [
    {
     "name": "stdout",
     "output_type": "stream",
     "text": [
      "\n",
      "    Parameters:\n",
      "        schema (pandas.core.frame.DataFrame): dataframe containing two columns\n",
      "            'Column' - strings corresponding with the column names from the main dataframe\n",
      "            'QuestionText' - strings corresponding to the question asked on the survey\n",
      "        search_term (str): term to search to retrieve index and text\n",
      "        \n",
      "    Returns:\n",
      "        questions (list): list of dictionaries, where each dictionary corresponds to a distinct question has three keys\n",
      "                            * id (int): index\n",
      "                            * colname (str): column name\n",
      "                            * question (str): text from the question found.\n",
      "    \n"
     ]
    }
   ],
   "source": [
    "print(search_question.__doc__)"
   ]
  },
  {
   "cell_type": "code",
   "execution_count": 7,
   "metadata": {},
   "outputs": [
    {
     "data": {
      "text/plain": [
       "[{'id': 78,\n",
       "  'colname': 'Gender',\n",
       "  'question': 'Which of the following do you currently identify as? Please select all that apply. If you prefer not to answer, you may leave this question blank.'},\n",
       " {'id': 79, 'colname': 'Trans', 'question': 'Do you identify as transgender?'},\n",
       " {'id': 80,\n",
       "  'colname': 'Sexuality',\n",
       "  'question': 'Which of the following do you currently identify as? Please select all that apply. If you prefer not to answer, you may leave this question blank.'},\n",
       " {'id': 81,\n",
       "  'colname': 'Ethnicity',\n",
       "  'question': 'Which of the following do you identify as? Please check all that apply. If you prefer not to answer, you may leave this question blank.'}]"
      ]
     },
     "execution_count": 7,
     "metadata": {},
     "output_type": "execute_result"
    }
   ],
   "source": [
    "search_question(schema, \"identify\")"
   ]
  },
  {
   "cell_type": "markdown",
   "metadata": {},
   "source": [
    "What are the unique values for the question about *Gender* ?"
   ]
  },
  {
   "cell_type": "code",
   "execution_count": 8,
   "metadata": {},
   "outputs": [
    {
     "data": {
      "text/plain": [
       "array(['Man', nan, 'Woman',\n",
       "       'Non-binary, genderqueer, or gender non-conforming',\n",
       "       'Woman;Non-binary, genderqueer, or gender non-conforming',\n",
       "       'Woman;Man;Non-binary, genderqueer, or gender non-conforming',\n",
       "       'Woman;Man',\n",
       "       'Man;Non-binary, genderqueer, or gender non-conforming'],\n",
       "      dtype=object)"
      ]
     },
     "execution_count": 8,
     "metadata": {},
     "output_type": "execute_result"
    }
   ],
   "source": [
    "df['Gender'].unique()"
   ]
  },
  {
   "cell_type": "markdown",
   "metadata": {},
   "source": [
    "Taking a look to the values, we can easily identify:  \n",
    " - Man\n",
    " - Woman\n",
    " - Non-binary, genderqueer, or gender non-conforming\n",
    " \n",
    "Those values repeated alone and in combinations, and the survey format makes it obvious that the first value in combinations was the first marked by the respondant.  \n",
    "I imputed and transformed the values as follows:\n",
    " - transform *Woman;Man* values to *Non-binary*\n",
    " - keep the first value in combinations\n",
    " - transform *Non-binary, genderqueer, or gender non-conforming* to *Non-binary*"
   ]
  },
  {
   "cell_type": "code",
   "execution_count": 9,
   "metadata": {},
   "outputs": [],
   "source": [
    "gender_dict = {\n",
    "    'replace': ['Woman;Man', '.+;', 'Non-binary, genderqueer, or gender non-conforming'],\n",
    "    'value': ['Non-binary', '', 'Non-binary']\n",
    "}\n",
    "\n",
    "df['Gender'].replace(to_replace=gender_dict['replace'], value=gender_dict['value'], regex=True, inplace=True)"
   ]
  },
  {
   "cell_type": "markdown",
   "metadata": {},
   "source": [
    "I wrote the helper function **get_probs** that will compute the percentages of values in a pandas Series.  \n",
    "Then again, avoided the clutter in the notebook."
   ]
  },
  {
   "cell_type": "code",
   "execution_count": 10,
   "metadata": {},
   "outputs": [
    {
     "name": "stdout",
     "output_type": "stream",
     "text": [
      "\n",
      "    Takes in a column with numeric values and returns the percentage of unique values in the dataset.\n",
      "    \n",
      "    Parameters:\n",
      "        pd_serie (pandas.core.series.Series): pandas Series\n",
      "        \n",
      "    Returns:\n",
      "        pandas.core.series.Series with percentages of the unique values in the original data input.\n",
      "        \n",
      "    \n"
     ]
    }
   ],
   "source": [
    "print(get_probs.__doc__)"
   ]
  },
  {
   "cell_type": "code",
   "execution_count": 11,
   "metadata": {
    "scrolled": true
   },
   "outputs": [
    {
     "data": {
      "text/plain": [
       "Man           91.233637\n",
       "Woman          7.428050\n",
       "Non-binary     1.338313\n",
       "Name: Gender, dtype: float64"
      ]
     },
     "execution_count": 11,
     "metadata": {},
     "output_type": "execute_result"
    }
   ],
   "source": [
    "stats_gender = get_probs(df['Gender'])\n",
    "stats_gender"
   ]
  },
  {
   "cell_type": "markdown",
   "metadata": {},
   "source": [
    "The **plot_stats** helper function takes in a pandas Series and plots it."
   ]
  },
  {
   "cell_type": "code",
   "execution_count": 12,
   "metadata": {},
   "outputs": [
    {
     "name": "stdout",
     "output_type": "stream",
     "text": [
      "\n",
      "    Plots a bar graph out of pandas Series values (index, values).\n",
      "    \n",
      "    Parameters:\n",
      "        x: labels\n",
      "        y: values\n",
      "        \n",
      "        Optional values\n",
      "            title (str): graph title - default 'Title'\n",
      "            xlabel_ (str): label for the X axis - default 'X labels'\n",
      "            ylabel_ (str): label for the Y axis - default 'Y labels'\n",
      "            xticks_labels (list): change the X labels for the given list of labels - default None\n",
      "            color (tuple): default (0.1, 0.2, 0.5, 0.7)\n",
      "            filename (str): name and extension of the file to save the graph - default None\n",
      "        \n",
      "    Returns:\n",
      "        bar graph with the specified characteristics\n",
      "    \n"
     ]
    }
   ],
   "source": [
    "print(plot_stats.__doc__)"
   ]
  },
  {
   "cell_type": "code",
   "execution_count": 13,
   "metadata": {},
   "outputs": [
    {
     "data": {
      "image/png": "[encoded data removed]",
      "text/plain": [
       "<Figure size 432x288 with 1 Axes>"
      ]
     },
     "metadata": {
      "needs_background": "light"
     },
     "output_type": "display_data"
    }
   ],
   "source": [
    "plot_stats(stats_gender.index, stats_gender.values, title='Gender distribution of developers\\nwho participated in the survey', \n",
    "           xlabel_='Gender', ylabel_='% of developers', filename='img/Gender.png')"
   ]
  },
  {
   "cell_type": "code",
   "execution_count": 14,
   "metadata": {},
   "outputs": [],
   "source": [
    "notes.append('Approximately {}% of the participants were men, {}% were women, and {}% as non-binary, genderqueer, or gender non-conforming.'.format(\n",
    "    round(stats_gender.Man, 1),\n",
    "    round(stats_gender.Woman, 1),\n",
    "    round(stats_gender['Non-binary'], 1),\n",
    "))"
   ]
  },
  {
   "cell_type": "markdown",
   "metadata": {},
   "source": [
    "The desirable subject of this analysis are participants of the survey whose gender identity (or one of them) was woman.  \n",
    "I reflected this as a subset of only woman participants from the imputed data and stored it in a variable ***df_woman***."
   ]
  },
  {
   "cell_type": "code",
   "execution_count": 15,
   "metadata": {},
   "outputs": [
    {
     "data": {
      "text/plain": [
       "3477"
      ]
     },
     "execution_count": 15,
     "metadata": {},
     "output_type": "execute_result"
    }
   ],
   "source": [
    "df['Gender'].isnull().sum()"
   ]
  },
  {
   "cell_type": "code",
   "execution_count": 16,
   "metadata": {},
   "outputs": [],
   "source": [
    "gender_woman = ['Woman']\n",
    "df_woman = df[df['Gender'].isin(gender_woman)]"
   ]
  },
  {
   "cell_type": "code",
   "execution_count": 17,
   "metadata": {},
   "outputs": [],
   "source": [
    "notes.append('The survey had {} of {} participants \\\n",
    "that identified themselves as women ({}%), and {} ({}%) that didn\\'t provide information.'.format(df_woman.shape[0], \n",
    "                                                   df.shape[0], \n",
    "                                                   round(df_woman.shape[0] / df.shape[0] * 100, 1),\n",
    "                                                   df['Gender'].isnull().sum(), \n",
    "                                                   round(df['Gender'].isnull().sum() / df.shape[0] * 100, 1)))"
   ]
  },
  {
   "cell_type": "code",
   "execution_count": 18,
   "metadata": {},
   "outputs": [],
   "source": [
    "df_woman.to_csv('data/woman_survey.csv', sep=',')"
   ]
  },
  {
   "cell_type": "markdown",
   "metadata": {},
   "source": [
    "## Employment"
   ]
  },
  {
   "cell_type": "markdown",
   "metadata": {},
   "source": [
    "What questions were asked about employment?  \n",
    "What kind of employment was predominant among the women participants?"
   ]
  },
  {
   "cell_type": "code",
   "execution_count": 19,
   "metadata": {
    "scrolled": true
   },
   "outputs": [
    {
     "data": {
      "text/plain": [
       "[{'id': 5,\n",
       "  'colname': 'Employment',\n",
       "  'question': 'Which of the following best describes your current employment status?'}]"
      ]
     },
     "execution_count": 19,
     "metadata": {},
     "output_type": "execute_result"
    }
   ],
   "source": [
    "search_question(schema, \"employment\")"
   ]
  },
  {
   "cell_type": "code",
   "execution_count": 20,
   "metadata": {
    "scrolled": false
   },
   "outputs": [
    {
     "data": {
      "text/plain": [
       "array(['Employed part-time', 'Not employed, and not looking for work',\n",
       "       'Employed full-time', 'Not employed, but looking for work',\n",
       "       'Independent contractor, freelancer, or self-employed', nan,\n",
       "       'Retired'], dtype=object)"
      ]
     },
     "execution_count": 20,
     "metadata": {},
     "output_type": "execute_result"
    }
   ],
   "source": [
    "df_woman['Employment'].unique()"
   ]
  },
  {
   "cell_type": "code",
   "execution_count": 21,
   "metadata": {},
   "outputs": [
    {
     "data": {
      "text/plain": [
       "Employed full-time                                      73.828626\n",
       "Not employed, but looking for work                       8.279846\n",
       "Employed part-time                                       6.723363\n",
       "Independent contractor, freelancer, or self-employed     6.675225\n",
       "Not employed, and not looking for work                   4.139923\n",
       "Retired                                                  0.353017\n",
       "Name: Employment, dtype: float64"
      ]
     },
     "execution_count": 21,
     "metadata": {},
     "output_type": "execute_result"
    }
   ],
   "source": [
    "stats_work = get_probs(df_woman['Employment'])\n",
    "stats_work"
   ]
  },
  {
   "cell_type": "code",
   "execution_count": 22,
   "metadata": {
    "scrolled": false
   },
   "outputs": [
    {
     "data": {
      "image/png": "[encoded data removed]",
      "text/plain": [
       "<Figure size 432x288 with 1 Axes>"
      ]
     },
     "metadata": {
      "needs_background": "light"
     },
     "output_type": "display_data"
    }
   ],
   "source": [
    "plot_stats(stats_work.index, stats_work.values, title='Employment Status', \n",
    "           xlabel_='Employment', ylabel_='Percentage', filename='img/Employment.png', \n",
    "           xticks_labels=['Full-time', 'Unemployed\\nlooking for job', 'Part-time', 'Contractor', 'Unemployed\\nnot looking for job', 'Retired'])"
   ]
  },
  {
   "cell_type": "code",
   "execution_count": 23,
   "metadata": {},
   "outputs": [
    {
     "data": {
      "text/plain": [
       "112"
      ]
     },
     "execution_count": 23,
     "metadata": {},
     "output_type": "execute_result"
    }
   ],
   "source": [
    "df_woman['Employment'].isnull().sum()"
   ]
  },
  {
   "cell_type": "code",
   "execution_count": 24,
   "metadata": {},
   "outputs": [],
   "source": [
    "work_vals = [df_woman.shape[0], df_woman['Employment'].isnull().sum()]\n",
    "\n",
    "for i in range(3):\n",
    "    work_vals.append(round(stats_work[i], 1))\n",
    "    work_vals.append(stats_work.index[i].lower())\n",
    "\n",
    "notes.append('From the {} women developers, {} didn\\'t \\\n",
    "provide information on this question, and \\\n",
    "approximately {}% were {}, {}% were {}, and {}% were {}.'.format(*work_vals))"
   ]
  },
  {
   "cell_type": "markdown",
   "metadata": {},
   "source": [
    "I filtered the ***df_woman*** data to take some notes about women employed at the time of the survey. For this purpose, I stored it in ***df_woman_working*** variable.  \n",
    "\n",
    "Then I stored it back in ***df_woman*** to use it in the rest of the notebook."
   ]
  },
  {
   "cell_type": "code",
   "execution_count": 25,
   "metadata": {},
   "outputs": [],
   "source": [
    "working_targets = ['Employed full-time',\n",
    "                   'Independent contractor, freelancer, or self-employed',\n",
    "                   'Employed part-time']\n",
    "\n",
    "df_woman_working = df_woman[df_woman['Employment'].isin(working_targets)]"
   ]
  },
  {
   "cell_type": "code",
   "execution_count": 26,
   "metadata": {},
   "outputs": [],
   "source": [
    "women_work_ = '{} out of {} women developers ({}% of them) were actively working at the moment of participating in the survey.'\n",
    "notes.append(women_work_.format(df_woman_working.shape[0], \n",
    "                   df_woman.shape[0], \n",
    "                   round(df_woman_working.shape[0] / df_woman.shape[0] * 100, 1)))"
   ]
  },
  {
   "cell_type": "code",
   "execution_count": 27,
   "metadata": {},
   "outputs": [],
   "source": [
    "df_woman = df_woman_working"
   ]
  },
  {
   "cell_type": "markdown",
   "metadata": {},
   "source": [
    "## Work as Developers"
   ]
  },
  {
   "cell_type": "markdown",
   "metadata": {},
   "source": [
    "I also wanted to know if the women participants were developers.  \n",
    "The first step to find out was to get all questions related to code:"
   ]
  },
  {
   "cell_type": "code",
   "execution_count": 28,
   "metadata": {},
   "outputs": [
    {
     "data": {
      "text/plain": [
       "[{'id': 1,\n",
       "  'colname': 'MainBranch',\n",
       "  'question': 'Which of the following options best describes you today? Here, by \"developer\" we mean \"someone who writes code.\"'},\n",
       " {'id': 2, 'colname': 'Hobbyist', 'question': 'Do you code as a hobby?'},\n",
       " {'id': 14,\n",
       "  'colname': 'Age1stCode',\n",
       "  'question': 'At what age did you write your first line of code or program? (E.g., webpage, Hello World, Scratch project)'},\n",
       " {'id': 15,\n",
       "  'colname': 'YearsCodePro',\n",
       "  'question': 'How many years have you coded professionally (as a part of your work)?'},\n",
       " {'id': 38,\n",
       "  'colname': 'CodeRev',\n",
       "  'question': 'Do you review code as part of your work?'},\n",
       " {'id': 39,\n",
       "  'colname': 'CodeRevHrs',\n",
       "  'question': 'On average, how many hours per week do you spend on code review?'}]"
      ]
     },
     "execution_count": 28,
     "metadata": {},
     "output_type": "execute_result"
    }
   ],
   "source": [
    "search_question(schema, 'code')"
   ]
  },
  {
   "cell_type": "markdown",
   "metadata": {},
   "source": [
    "*MainBranch* looks promising. According to the survey, you could only provide one answer for this, so no need to impute or transform the answers.  \n",
    "Let's see the unique values for this question:"
   ]
  },
  {
   "cell_type": "code",
   "execution_count": 29,
   "metadata": {
    "scrolled": true
   },
   "outputs": [
    {
     "data": {
      "text/plain": [
       "array(['I am a student who is learning to code',\n",
       "       'I am a developer by profession',\n",
       "       'I am not primarily a developer, but I write code sometimes as part of my work',\n",
       "       'I used to be a developer by profession, but no longer am',\n",
       "       'I code primarily as a hobby', nan], dtype=object)"
      ]
     },
     "execution_count": 29,
     "metadata": {},
     "output_type": "execute_result"
    }
   ],
   "source": [
    "df_woman['MainBranch'].unique()"
   ]
  },
  {
   "cell_type": "code",
   "execution_count": 30,
   "metadata": {},
   "outputs": [
    {
     "data": {
      "text/plain": [
       "I am a developer by profession                                                   78.004073\n",
       "I am not primarily a developer, but I write code sometimes as part of my work    11.757082\n",
       "I am a student who is learning to code                                            6.702463\n",
       "I used to be a developer by profession, but no longer am                          1.944084\n",
       "I code primarily as a hobby                                                       1.592298\n",
       "Name: MainBranch, dtype: float64"
      ]
     },
     "execution_count": 30,
     "metadata": {},
     "output_type": "execute_result"
    }
   ],
   "source": [
    "stats_dev = get_probs(df_woman['MainBranch'])\n",
    "stats_dev"
   ]
  },
  {
   "cell_type": "code",
   "execution_count": 31,
   "metadata": {
    "scrolled": true
   },
   "outputs": [
    {
     "data": {
      "image/png": "[encoded data removed]",
      "text/plain": [
       "<Figure size 432x288 with 1 Axes>"
      ]
     },
     "metadata": {
      "needs_background": "light"
     },
     "output_type": "display_data"
    }
   ],
   "source": [
    "plot_stats(stats_dev.index, stats_dev.values, title='Distribution of developer statuses for women developers', \n",
    "           xlabel_='Developer status', ylabel_='Percentage of women developers', filename='img/Devs.png', \n",
    "           xticks_labels=['Profession', 'Student', 'As part of work', 'Hobby', 'Not anymore'])"
   ]
  },
  {
   "cell_type": "code",
   "execution_count": 32,
   "metadata": {},
   "outputs": [
    {
     "data": {
      "text/plain": [
       "35"
      ]
     },
     "execution_count": 32,
     "metadata": {},
     "output_type": "execute_result"
    }
   ],
   "source": [
    "df_woman['MainBranch'].isnull().sum()"
   ]
  },
  {
   "cell_type": "code",
   "execution_count": 33,
   "metadata": {},
   "outputs": [],
   "source": [
    "branch_vals = [df_woman.shape[0],\n",
    "               df['MainBranch'].isnull().sum(),\n",
    "               (df_woman.shape[0] - df['MainBranch'].isnull().sum())]\n",
    "\n",
    "for i in range(3):\n",
    "    branch_vals.append(round(stats_dev[i], 1))\n",
    "    branch_vals.append(stats_dev.index[i])\n",
    "\n",
    "main_branch_ = 'From the {} women developers participating in the survey, {} didn\\'t provide information on this question. From the {} who did answered, approximately {}% answered \"{}\", {}% said \"{}\", and {}% answered \"{}\".'\n",
    "notes.append(main_branch_.format(*branch_vals))"
   ]
  },
  {
   "cell_type": "markdown",
   "metadata": {},
   "source": [
    "In the previous section, I filtered all the data from women to keep only those employed at the time of the survey.   \n",
    "Now, I filter those who work as developers."
   ]
  },
  {
   "cell_type": "code",
   "execution_count": 34,
   "metadata": {},
   "outputs": [],
   "source": [
    "branch_targets = ['I am a developer by profession', \n",
    "                  'I am not primarily a developer, but I write code sometimes as part of my work']\n",
    "\n",
    "df_woman = df_woman[df_woman['MainBranch'].isin(branch_targets)]"
   ]
  },
  {
   "cell_type": "markdown",
   "metadata": {},
   "source": [
    "## Formal Education"
   ]
  },
  {
   "cell_type": "markdown",
   "metadata": {},
   "source": [
    "I aim to get only information about formal education, and unique values for this question.  \n",
    "Same as previous sections, I use the helper functions to:\n",
    " - get questions related to the education level and unique values,\n",
    " - get percentages for this data,\n",
    " - plot the percentages,\n",
    " - take a note about this information"
   ]
  },
  {
   "cell_type": "code",
   "execution_count": 35,
   "metadata": {},
   "outputs": [
    {
     "data": {
      "text/plain": [
       "[{'id': 8,\n",
       "  'colname': 'EdLevel',\n",
       "  'question': 'Which of the following best describes the highest level of formal education that you’ve completed?'},\n",
       " {'id': 10,\n",
       "  'colname': 'EduOther',\n",
       "  'question': 'Which of the following types of non-degree education have you used or participated in? Please select all that apply.'},\n",
       " {'id': 13,\n",
       "  'colname': 'YearsCode',\n",
       "  'question': 'Including any education, how many years have you been coding?'}]"
      ]
     },
     "execution_count": 35,
     "metadata": {},
     "output_type": "execute_result"
    }
   ],
   "source": [
    "search_question(schema, \"education\")"
   ]
  },
  {
   "cell_type": "code",
   "execution_count": 36,
   "metadata": {},
   "outputs": [
    {
     "data": {
      "text/plain": [
       "array(['Bachelor’s degree (BA, BS, B.Eng., etc.)',\n",
       "       'Some college/university study without earning a degree',\n",
       "       'Master’s degree (MA, MS, M.Eng., MBA, etc.)',\n",
       "       'Other doctoral degree (Ph.D, Ed.D., etc.)',\n",
       "       'Secondary school (e.g. American high school, German Realschule or Gymnasium, etc.)',\n",
       "       'Associate degree', nan, 'Professional degree (JD, MD, etc.)',\n",
       "       'Primary/elementary school',\n",
       "       'I never completed any formal education'], dtype=object)"
      ]
     },
     "execution_count": 36,
     "metadata": {},
     "output_type": "execute_result"
    }
   ],
   "source": [
    "df_woman['EdLevel'].unique()"
   ]
  },
  {
   "cell_type": "code",
   "execution_count": 37,
   "metadata": {},
   "outputs": [
    {
     "data": {
      "text/plain": [
       "Bachelor’s degree (BA, BS, B.Eng., etc.)                                              54.366079\n",
       "Master’s degree (MA, MS, M.Eng., MBA, etc.)                                           27.204030\n",
       "Some college/university study without earning a degree                                 7.640638\n",
       "Other doctoral degree (Ph.D, Ed.D., etc.)                                              3.316541\n",
       "Associate degree                                                                       2.959698\n",
       "Secondary school (e.g. American high school, German Realschule or Gymnasium, etc.)     2.686818\n",
       "Professional degree (JD, MD, etc.)                                                     1.175483\n",
       "I never completed any formal education                                                 0.440806\n",
       "Primary/elementary school                                                              0.209908\n",
       "Name: EdLevel, dtype: float64"
      ]
     },
     "execution_count": 37,
     "metadata": {},
     "output_type": "execute_result"
    }
   ],
   "source": [
    "stats_ed = get_probs(df_woman['EdLevel'])\n",
    "stats_ed"
   ]
  },
  {
   "cell_type": "code",
   "execution_count": 38,
   "metadata": {
    "scrolled": true
   },
   "outputs": [
    {
     "data": {
      "image/png": "[encoded data removed]",
      "text/plain": [
       "<Figure size 432x288 with 1 Axes>"
      ]
     },
     "metadata": {
      "needs_background": "light"
     },
     "output_type": "display_data"
    }
   ],
   "source": [
    "plot_stats(stats_ed.index, stats_ed.values, title='Distribution of education levels for women developers', \n",
    "           xlabel_='Higher education achieved', ylabel_='Percentage of women developers', filename='img/EdLevel.png', \n",
    "           xticks_labels=['Bachelor', 'Master', 'Some college', 'Other doctoral', 'Associate', \n",
    "                          'Secondary school', 'Professional degree', 'No formal ed.', 'Primary school'])"
   ]
  },
  {
   "cell_type": "code",
   "execution_count": 39,
   "metadata": {},
   "outputs": [
    {
     "data": {
      "text/plain": [
       "84"
      ]
     },
     "execution_count": 39,
     "metadata": {},
     "output_type": "execute_result"
    }
   ],
   "source": [
    "df_woman['EdLevel'].isnull().sum()"
   ]
  },
  {
   "cell_type": "code",
   "execution_count": 40,
   "metadata": {},
   "outputs": [],
   "source": [
    "ed_vals = [df_woman.shape[0], df_woman['EdLevel'].isnull().sum()]\n",
    "\n",
    "for i in range(3):\n",
    "    ed_vals.append(round(stats_ed[i], 1))\n",
    "    ed_vals.append(stats_ed.index[i])\n",
    "\n",
    "notes.append('From the {} women developers, {} didn\\'t provide information on this question, \\\n",
    "approximately {}% had a {}, {}% a {}, and {}% had {}.'.format(*ed_vals))"
   ]
  },
  {
   "cell_type": "markdown",
   "metadata": {},
   "source": [
    "## Country"
   ]
  },
  {
   "cell_type": "code",
   "execution_count": 41,
   "metadata": {
    "scrolled": true
   },
   "outputs": [
    {
     "data": {
      "text/plain": [
       "[{'id': 6,\n",
       "  'colname': 'Country',\n",
       "  'question': 'In which country do you currently reside?'}]"
      ]
     },
     "execution_count": 41,
     "metadata": {},
     "output_type": "execute_result"
    }
   ],
   "source": [
    "search_question(schema, \"country\")"
   ]
  },
  {
   "cell_type": "code",
   "execution_count": 42,
   "metadata": {},
   "outputs": [
    {
     "data": {
      "text/plain": [
       "array(['United States', 'Philippines', 'India', 'China', 'Canada',\n",
       "       'Croatia', 'Iran', 'Austria', 'Argentina', 'Russian Federation'],\n",
       "      dtype=object)"
      ]
     },
     "execution_count": 42,
     "metadata": {},
     "output_type": "execute_result"
    }
   ],
   "source": [
    "df_woman['Country'].unique()[:10]"
   ]
  },
  {
   "cell_type": "code",
   "execution_count": 43,
   "metadata": {},
   "outputs": [
    {
     "data": {
      "text/plain": [
       "United States     34.756601\n",
       "India              8.622112\n",
       "United Kingdom     7.322607\n",
       "Canada             4.847360\n",
       "Germany            4.744224\n",
       "                    ...    \n",
       "Cameroon           0.020627\n",
       "Afghanistan        0.020627\n",
       "Uzbekistan         0.020627\n",
       "Jamaica            0.020627\n",
       "Zambia             0.020627\n",
       "Name: Country, Length: 115, dtype: float64"
      ]
     },
     "execution_count": 43,
     "metadata": {},
     "output_type": "execute_result"
    }
   ],
   "source": [
    "stats_country = get_probs(df_woman['Country'])\n",
    "stats_country"
   ]
  },
  {
   "cell_type": "code",
   "execution_count": 44,
   "metadata": {
    "scrolled": true
   },
   "outputs": [
    {
     "data": {
      "image/png": "[encoded data removed]",
      "text/plain": [
       "<Figure size 432x288 with 1 Axes>"
      ]
     },
     "metadata": {
      "needs_background": "light"
     },
     "output_type": "display_data"
    }
   ],
   "source": [
    "plot_stats(stats_country.index[:10], stats_country.values[:10], title='Distribution of Top 10 countries\\n where women developers currently reside', \n",
    "           xlabel_='Countries', ylabel_='Percentage of women developers', filename='img/Country.png')"
   ]
  },
  {
   "cell_type": "code",
   "execution_count": 45,
   "metadata": {},
   "outputs": [
    {
     "data": {
      "text/plain": [
       "0"
      ]
     },
     "execution_count": 45,
     "metadata": {},
     "output_type": "execute_result"
    }
   ],
   "source": [
    "df_woman['Country'].isnull().sum()"
   ]
  },
  {
   "cell_type": "code",
   "execution_count": 46,
   "metadata": {},
   "outputs": [],
   "source": [
    "country_vals = [df_woman.shape[0], \n",
    "                df_woman['Country'].isnull().sum()]\n",
    "\n",
    "for i in range(5):\n",
    "    country_vals.append(stats_country.index[i])\n",
    "    country_vals.append(round(stats_country[i], 1))\n",
    "    \n",
    "about_countries = 'The {} actively working women developers that participated in the survey\\\n",
    "and gave some kind of information ({} didn\\'t provide information about \\\n",
    "their residence) about their education were predominantly from {} ({}%),\\\n",
    "{} ({}%), {} ({}%), {} ({}%), and {} ({}%).'\n",
    "notes.append(about_countries.format(*country_vals))"
   ]
  },
  {
   "cell_type": "markdown",
   "metadata": {},
   "source": [
    "## Ethnicity"
   ]
  },
  {
   "cell_type": "code",
   "execution_count": 47,
   "metadata": {
    "scrolled": true
   },
   "outputs": [
    {
     "data": {
      "text/plain": [
       "[{'id': 78,\n",
       "  'colname': 'Gender',\n",
       "  'question': 'Which of the following do you currently identify as? Please select all that apply. If you prefer not to answer, you may leave this question blank.'},\n",
       " {'id': 79, 'colname': 'Trans', 'question': 'Do you identify as transgender?'},\n",
       " {'id': 80,\n",
       "  'colname': 'Sexuality',\n",
       "  'question': 'Which of the following do you currently identify as? Please select all that apply. If you prefer not to answer, you may leave this question blank.'},\n",
       " {'id': 81,\n",
       "  'colname': 'Ethnicity',\n",
       "  'question': 'Which of the following do you identify as? Please check all that apply. If you prefer not to answer, you may leave this question blank.'}]"
      ]
     },
     "execution_count": 47,
     "metadata": {},
     "output_type": "execute_result"
    }
   ],
   "source": [
    "search_question(schema, \"identify\")"
   ]
  },
  {
   "cell_type": "markdown",
   "metadata": {},
   "source": [
    "For this question, was possible to mark more than one answer, even though there were options like *Biracial* and *Multiracial*.  \n",
    "We can see in the next cell some of the unique answers:"
   ]
  },
  {
   "cell_type": "code",
   "execution_count": 48,
   "metadata": {
    "scrolled": true
   },
   "outputs": [
    {
     "data": {
      "text/plain": [
       "array(['Black or of African descent', 'East Asian;South Asian', nan,\n",
       "       'White or of European descent', 'Middle Eastern',\n",
       "       'Hispanic or Latino/Latina', 'East Asian',\n",
       "       'Black or of African descent;White or of European descent;Biracial',\n",
       "       'Hispanic or Latino/Latina;White or of European descent',\n",
       "       'South Asian'], dtype=object)"
      ]
     },
     "execution_count": 48,
     "metadata": {},
     "output_type": "execute_result"
    }
   ],
   "source": [
    "df_woman['Ethnicity'].unique()[:10]"
   ]
  },
  {
   "cell_type": "code",
   "execution_count": 49,
   "metadata": {},
   "outputs": [
    {
     "data": {
      "text/plain": [
       "504"
      ]
     },
     "execution_count": 49,
     "metadata": {},
     "output_type": "execute_result"
    }
   ],
   "source": [
    "df_woman['Ethnicity'].isnull().sum()"
   ]
  },
  {
   "cell_type": "code",
   "execution_count": 50,
   "metadata": {},
   "outputs": [
    {
     "data": {
      "text/plain": [
       "67"
      ]
     },
     "execution_count": 50,
     "metadata": {},
     "output_type": "execute_result"
    }
   ],
   "source": [
    "len(df_woman['Ethnicity'].unique())"
   ]
  },
  {
   "cell_type": "markdown",
   "metadata": {},
   "source": [
    "There were 67 unique combinations for the question about *Ethnicity*.  \n",
    "My approach was to simplify the information for the solely purpose of getting a better idea about ethnicities.  \n",
    "I imputed the answers and keep only the first answer of each respondant.  \n",
    "Then I got the percentages of distinct ethnicities for women developers employed at the time of the survey."
   ]
  },
  {
   "cell_type": "code",
   "execution_count": 51,
   "metadata": {},
   "outputs": [],
   "source": [
    "ethnics = df_woman[['Ethnicity', 'Country']].copy().dropna()\n",
    "ethnics['Ethnicity'].replace(to_replace=';.+', value='', regex=True, inplace=True)"
   ]
  },
  {
   "cell_type": "code",
   "execution_count": 52,
   "metadata": {},
   "outputs": [
    {
     "data": {
      "text/plain": [
       "White or of European descent                                   67.219153\n",
       "South Asian                                                     8.310313\n",
       "East Asian                                                      7.090239\n",
       "Hispanic or Latino/Latina                                       6.445672\n",
       "Black or of African descent                                     4.719153\n",
       "Middle Eastern                                                  3.890424\n",
       "Multiracial                                                     0.828729\n",
       "Biracial                                                        0.828729\n",
       "Native American, Pacific Islander, or Indigenous Australian     0.667587\n",
       "Name: Ethnicity, dtype: float64"
      ]
     },
     "execution_count": 52,
     "metadata": {},
     "output_type": "execute_result"
    }
   ],
   "source": [
    "stats_ethnic = get_probs(ethnics['Ethnicity'])\n",
    "stats_ethnic"
   ]
  },
  {
   "cell_type": "code",
   "execution_count": 53,
   "metadata": {
    "scrolled": true
   },
   "outputs": [
    {
     "data": {
      "image/png": "[encoded data removed]",
      "text/plain": [
       "<Figure size 432x288 with 1 Axes>"
      ]
     },
     "metadata": {
      "needs_background": "light"
     },
     "output_type": "display_data"
    }
   ],
   "source": [
    "plot_stats(stats_ethnic.index, stats_ethnic.values, \n",
    "           title='Distribution of ethnicities\\nfor women developers\\nemployed at the time of the survey',\n",
    "           ylabel_='% of women developers\\nemployed at the time of the survey', \n",
    "           xlabel_='Ethnicities', \n",
    "           xticks_labels=['White', 'South Asian', 'East Asian', 'Latinx', 'Black', 'Multiracial', 'Biracial',\n",
    "                          'Middle Eastern', \n",
    "                          'Native or Indigenous'],\n",
    "           filename='img/Distribution_Ethnics.png')"
   ]
  },
  {
   "cell_type": "markdown",
   "metadata": {},
   "source": [
    "The plot give us an idea of the ethnicities of the participants.  \n",
    "But ethnicity makes sense in a context of where the participant is located.  \n",
    "To compel with this idea, I:\n",
    " - took the countries where the women developer where currently located, \n",
    " - created a dummy variable out of the *Ethnicity* column,\n",
    " - filtered the first 10 countries where the participants where located,\n",
    " - grouped by *Country*,\n",
    " - computed the percentages for Country-Ethnicity values  \n",
    " \n",
    "After all this, I plotted the matrix as a heatmap and provided the percentages to assist the comparison between ethnicities in these countries."
   ]
  },
  {
   "cell_type": "code",
   "execution_count": 54,
   "metadata": {
    "scrolled": true
   },
   "outputs": [
    {
     "data": {
      "text/html": [
       "<div>\n",
       "<style scoped>\n",
       "    .dataframe tbody tr th:only-of-type {\n",
       "        vertical-align: middle;\n",
       "    }\n",
       "\n",
       "    .dataframe tbody tr th {\n",
       "        vertical-align: top;\n",
       "    }\n",
       "\n",
       "    .dataframe thead th {\n",
       "        text-align: right;\n",
       "    }\n",
       "</style>\n",
       "<table border=\"1\" class=\"dataframe\">\n",
       "  <thead>\n",
       "    <tr style=\"text-align: right;\">\n",
       "      <th></th>\n",
       "      <th>Black or of African descent</th>\n",
       "      <th>East Asian</th>\n",
       "      <th>Hispanic or Latino/Latina</th>\n",
       "      <th>Middle Eastern</th>\n",
       "      <th>Multiracial</th>\n",
       "      <th>Native American, Pacific Islander, or Indigenous Australian</th>\n",
       "      <th>South Asian</th>\n",
       "      <th>White or of European descent</th>\n",
       "    </tr>\n",
       "    <tr>\n",
       "      <th>Country</th>\n",
       "      <th></th>\n",
       "      <th></th>\n",
       "      <th></th>\n",
       "      <th></th>\n",
       "      <th></th>\n",
       "      <th></th>\n",
       "      <th></th>\n",
       "      <th></th>\n",
       "    </tr>\n",
       "  </thead>\n",
       "  <tbody>\n",
       "    <tr>\n",
       "      <th>Australia</th>\n",
       "      <td>0.000000</td>\n",
       "      <td>15.909091</td>\n",
       "      <td>2.272727</td>\n",
       "      <td>3.409091</td>\n",
       "      <td>0.000000</td>\n",
       "      <td>2.272727</td>\n",
       "      <td>3.409091</td>\n",
       "      <td>71.590909</td>\n",
       "    </tr>\n",
       "    <tr>\n",
       "      <th>Brazil</th>\n",
       "      <td>13.043478</td>\n",
       "      <td>4.347826</td>\n",
       "      <td>40.579710</td>\n",
       "      <td>0.000000</td>\n",
       "      <td>4.347826</td>\n",
       "      <td>1.449275</td>\n",
       "      <td>0.000000</td>\n",
       "      <td>31.884058</td>\n",
       "    </tr>\n",
       "    <tr>\n",
       "      <th>Canada</th>\n",
       "      <td>2.314815</td>\n",
       "      <td>10.648148</td>\n",
       "      <td>5.555556</td>\n",
       "      <td>2.314815</td>\n",
       "      <td>2.314815</td>\n",
       "      <td>1.388889</td>\n",
       "      <td>6.944444</td>\n",
       "      <td>66.203704</td>\n",
       "    </tr>\n",
       "    <tr>\n",
       "      <th>France</th>\n",
       "      <td>8.333333</td>\n",
       "      <td>4.761905</td>\n",
       "      <td>2.380952</td>\n",
       "      <td>2.380952</td>\n",
       "      <td>2.380952</td>\n",
       "      <td>0.000000</td>\n",
       "      <td>1.190476</td>\n",
       "      <td>75.000000</td>\n",
       "    </tr>\n",
       "    <tr>\n",
       "      <th>Germany</th>\n",
       "      <td>1.369863</td>\n",
       "      <td>3.196347</td>\n",
       "      <td>2.739726</td>\n",
       "      <td>3.196347</td>\n",
       "      <td>0.456621</td>\n",
       "      <td>0.000000</td>\n",
       "      <td>4.109589</td>\n",
       "      <td>83.105023</td>\n",
       "    </tr>\n",
       "    <tr>\n",
       "      <th>India</th>\n",
       "      <td>0.485437</td>\n",
       "      <td>11.650485</td>\n",
       "      <td>0.000000</td>\n",
       "      <td>0.970874</td>\n",
       "      <td>0.485437</td>\n",
       "      <td>0.485437</td>\n",
       "      <td>85.922330</td>\n",
       "      <td>0.000000</td>\n",
       "    </tr>\n",
       "    <tr>\n",
       "      <th>Netherlands</th>\n",
       "      <td>2.666667</td>\n",
       "      <td>1.333333</td>\n",
       "      <td>6.666667</td>\n",
       "      <td>2.666667</td>\n",
       "      <td>1.333333</td>\n",
       "      <td>0.000000</td>\n",
       "      <td>5.333333</td>\n",
       "      <td>80.000000</td>\n",
       "    </tr>\n",
       "    <tr>\n",
       "      <th>Poland</th>\n",
       "      <td>0.000000</td>\n",
       "      <td>0.000000</td>\n",
       "      <td>0.000000</td>\n",
       "      <td>1.123596</td>\n",
       "      <td>0.000000</td>\n",
       "      <td>0.000000</td>\n",
       "      <td>0.000000</td>\n",
       "      <td>98.876404</td>\n",
       "    </tr>\n",
       "    <tr>\n",
       "      <th>United Kingdom</th>\n",
       "      <td>4.941860</td>\n",
       "      <td>1.744186</td>\n",
       "      <td>1.162791</td>\n",
       "      <td>1.744186</td>\n",
       "      <td>2.034884</td>\n",
       "      <td>0.290698</td>\n",
       "      <td>3.488372</td>\n",
       "      <td>83.720930</td>\n",
       "    </tr>\n",
       "    <tr>\n",
       "      <th>United States</th>\n",
       "      <td>5.972906</td>\n",
       "      <td>8.497537</td>\n",
       "      <td>5.788177</td>\n",
       "      <td>1.293103</td>\n",
       "      <td>0.554187</td>\n",
       "      <td>0.985222</td>\n",
       "      <td>3.940887</td>\n",
       "      <td>72.290640</td>\n",
       "    </tr>\n",
       "  </tbody>\n",
       "</table>\n",
       "</div>"
      ],
      "text/plain": [
       "                Black or of African descent  East Asian  \\\n",
       "Country                                                   \n",
       "Australia                          0.000000   15.909091   \n",
       "Brazil                            13.043478    4.347826   \n",
       "Canada                             2.314815   10.648148   \n",
       "France                             8.333333    4.761905   \n",
       "Germany                            1.369863    3.196347   \n",
       "India                              0.485437   11.650485   \n",
       "Netherlands                        2.666667    1.333333   \n",
       "Poland                             0.000000    0.000000   \n",
       "United Kingdom                     4.941860    1.744186   \n",
       "United States                      5.972906    8.497537   \n",
       "\n",
       "                Hispanic or Latino/Latina  Middle Eastern  Multiracial  \\\n",
       "Country                                                                  \n",
       "Australia                        2.272727        3.409091     0.000000   \n",
       "Brazil                          40.579710        0.000000     4.347826   \n",
       "Canada                           5.555556        2.314815     2.314815   \n",
       "France                           2.380952        2.380952     2.380952   \n",
       "Germany                          2.739726        3.196347     0.456621   \n",
       "India                            0.000000        0.970874     0.485437   \n",
       "Netherlands                      6.666667        2.666667     1.333333   \n",
       "Poland                           0.000000        1.123596     0.000000   \n",
       "United Kingdom                   1.162791        1.744186     2.034884   \n",
       "United States                    5.788177        1.293103     0.554187   \n",
       "\n",
       "                Native American, Pacific Islander, or Indigenous Australian  \\\n",
       "Country                                                                       \n",
       "Australia                                                2.272727             \n",
       "Brazil                                                   1.449275             \n",
       "Canada                                                   1.388889             \n",
       "France                                                   0.000000             \n",
       "Germany                                                  0.000000             \n",
       "India                                                    0.485437             \n",
       "Netherlands                                              0.000000             \n",
       "Poland                                                   0.000000             \n",
       "United Kingdom                                           0.290698             \n",
       "United States                                            0.985222             \n",
       "\n",
       "                South Asian  White or of European descent  \n",
       "Country                                                    \n",
       "Australia          3.409091                     71.590909  \n",
       "Brazil             0.000000                     31.884058  \n",
       "Canada             6.944444                     66.203704  \n",
       "France             1.190476                     75.000000  \n",
       "Germany            4.109589                     83.105023  \n",
       "India             85.922330                      0.000000  \n",
       "Netherlands        5.333333                     80.000000  \n",
       "Poland             0.000000                     98.876404  \n",
       "United Kingdom     3.488372                     83.720930  \n",
       "United States      3.940887                     72.290640  "
      ]
     },
     "execution_count": 54,
     "metadata": {},
     "output_type": "execute_result"
    }
   ],
   "source": [
    "ethnics_top_countries = pd.concat([ethnics['Country'], pd.get_dummies(ethnics['Ethnicity'], drop_first=True)], axis=1)\n",
    "ethnics_top_countries = ethnics_top_countries[ethnics.Country.isin(stats_country.index[:10])].groupby('Country').mean() * 100\n",
    "ethnics_top_countries"
   ]
  },
  {
   "cell_type": "code",
   "execution_count": 55,
   "metadata": {
    "scrolled": true
   },
   "outputs": [
    {
     "data": {
      "image/png": "[encoded data removed]",
      "text/plain": [
       "<Figure size 720x720 with 2 Axes>"
      ]
     },
     "metadata": {
      "needs_background": "light"
     },
     "output_type": "display_data"
    }
   ],
   "source": [
    "fig, ax = plt.subplots(figsize=(10, 10))\n",
    "ax = sns.heatmap(ethnics_top_countries, annot=True, fmt=\".2f\")\n",
    "for t in ax.texts: \n",
    "    t.set_text(t.get_text() + \"%\")\n",
    "plt.autoscale()\n",
    "plt.savefig('img/Ethnicity.png', bbox_inches = \"tight\");"
   ]
  },
  {
   "cell_type": "markdown",
   "metadata": {},
   "source": [
    "As we can see in the heatmap, each country was paired with the % of women developers currently located there and their ethnicity.  \n",
    "I kept each *Ethnicity* label as it was."
   ]
  },
  {
   "cell_type": "code",
   "execution_count": 56,
   "metadata": {},
   "outputs": [],
   "source": [
    "ethnic_vals = [df_woman.shape[0] - df_woman['Ethnicity'].isnull().sum()]\n",
    "\n",
    "for i in range(5):\n",
    "    ethnic_vals.append(stats_ethnic.index[i])\n",
    "    ethnic_vals.append(round(stats_ethnic[i], 1))\n",
    "\n",
    "ethnic_vals.append(df_woman['Ethnicity'].isnull().sum())\n",
    "    \n",
    "about_ethnics = 'The {} actively working women developers that participated in the survey, \\\n",
    "gave information about their education and ethnicity were predominantly {}s ({}%), \\\n",
    "{} ({}%), {} ({}%), {} ({}%), and {}s ({}%). {} didn\\'t provide information.'\n",
    "notes.append(about_ethnics.format(*ethnic_vals))"
   ]
  },
  {
   "cell_type": "markdown",
   "metadata": {},
   "source": [
    "## Age vs. Social Media"
   ]
  },
  {
   "cell_type": "markdown",
   "metadata": {},
   "source": [
    "Out of my curiosity I wondered where could I find women developers to connect with them. I've found many on Twitter (say [hi](https://twitter.com/miss_sizigia)!).  \n",
    "But, what are other choices and would this have something to do with their age?"
   ]
  },
  {
   "cell_type": "code",
   "execution_count": 57,
   "metadata": {
    "scrolled": true
   },
   "outputs": [
    {
     "data": {
      "text/plain": [
       "[{'id': 61,\n",
       "  'colname': 'SocialMedia',\n",
       "  'question': 'What social media site do you use the most?'}]"
      ]
     },
     "execution_count": 57,
     "metadata": {},
     "output_type": "execute_result"
    }
   ],
   "source": [
    "search_question(schema, \"social\")"
   ]
  },
  {
   "cell_type": "code",
   "execution_count": 58,
   "metadata": {},
   "outputs": [
    {
     "data": {
      "text/plain": [
       "626"
      ]
     },
     "execution_count": 58,
     "metadata": {},
     "output_type": "execute_result"
    }
   ],
   "source": [
    "df_woman[['Age', 'SocialMedia']].isnull().sum().sum()"
   ]
  },
  {
   "cell_type": "markdown",
   "metadata": {},
   "source": [
    "I filtered women by *Age* and *SocialMedia*, dropped NaN values, and got the unique values for *SocialMedia*."
   ]
  },
  {
   "cell_type": "code",
   "execution_count": 59,
   "metadata": {},
   "outputs": [
    {
     "data": {
      "text/plain": [
       "array(['Instagram', 'Facebook', 'YouTube', 'WeChat 微信', 'Twitter',\n",
       "       'WhatsApp', 'VK ВКонта́кте', 'Reddit', 'LinkedIn',\n",
       "       \"I don't use social media\", 'Snapchat', 'Weibo 新浪微博'], dtype=object)"
      ]
     },
     "execution_count": 59,
     "metadata": {},
     "output_type": "execute_result"
    }
   ],
   "source": [
    "woman_age_socialmedia = df_woman[['Age', 'SocialMedia']].dropna()\n",
    "\n",
    "woman_age_socialmedia['SocialMedia'].unique()"
   ]
  },
  {
   "cell_type": "markdown",
   "metadata": {},
   "source": [
    "As we can see, *VK ВКонта́кте*, *WeChat 微信* and *Weibo 新浪微博* have characters from other alphabets, so I cleaned the names for readability."
   ]
  },
  {
   "cell_type": "code",
   "execution_count": 60,
   "metadata": {},
   "outputs": [],
   "source": [
    "socialmedia_dict = {\n",
    "    'replace': [\"I don't use social media\", '(?![a-zA-Z]).+'], \n",
    "    'value': ['None', '']\n",
    "}\n",
    "\n",
    "woman_age_socialmedia['SocialMedia'].replace(to_replace=socialmedia_dict['replace'], \n",
    "                                             value=socialmedia_dict['value'], \n",
    "                                             regex=True, inplace=True)"
   ]
  },
  {
   "cell_type": "markdown",
   "metadata": {},
   "source": [
    "Next, I:\n",
    " - created a dummy variable out of *SocialMedia*,\n",
    " - cut the DataFrame to have ranges of age instead of individual ages of each participants and stored it as *AgeRange*,\n",
    " - dropped the *Age* column,\n",
    " - grouped by *AgeRange*, \n",
    " - computed the mean percentages, and\n",
    " - stored it all in a **age_social_media**:"
   ]
  },
  {
   "cell_type": "code",
   "execution_count": 61,
   "metadata": {},
   "outputs": [],
   "source": [
    "woman_age_socialmedia = pd.concat([woman_age_socialmedia['Age'], pd.get_dummies(woman_age_socialmedia['SocialMedia'], drop_first=True)], axis=1)\n",
    "\n",
    "bins = [0, 18, 25, 32, 39, 46, 53, np.inf]\n",
    "names = ['<18', '18-25', '25-32', '32-39', '39-46', '46-53', '53+']\n",
    "\n",
    "woman_age_socialmedia['AgeRange'] = pd.cut(woman_age_socialmedia.Age, bins, labels=names)\n",
    "\n",
    "woman_age_socialmedia.drop(columns='Age', inplace=True)\n",
    "\n",
    "age_social_media = woman_age_socialmedia.groupby('AgeRange').mean() * 100"
   ]
  },
  {
   "cell_type": "markdown",
   "metadata": {},
   "source": [
    "Next, I create a dictionary to map the categorical ranges with strings to give them meaning later on when I take a note about this analysis."
   ]
  },
  {
   "cell_type": "code",
   "execution_count": 62,
   "metadata": {},
   "outputs": [
    {
     "data": {
      "text/plain": [
       "{'<18': 'younger than 18',\n",
       " '18-25': 'between 18 and 25',\n",
       " '25-32': 'between 25 and 32',\n",
       " '32-39': 'between 32 and 39',\n",
       " '39-46': 'between 39 and 46',\n",
       " '46-53': 'between 46 and 53',\n",
       " '53+': 'older than 53'}"
      ]
     },
     "execution_count": 62,
     "metadata": {},
     "output_type": "execute_result"
    }
   ],
   "source": [
    "age_social_dict = {}\n",
    "strs = ['younger than 18', \n",
    "'between 18 and 25',\n",
    "'between 25 and 32',\n",
    "'between 32 and 39',\n",
    "'between 39 and 46',\n",
    "'between 46 and 53',\n",
    "'older than 53']\n",
    "\n",
    "for idx, name in enumerate(names):\n",
    "    age_social_dict[name] = strs[idx]\n",
    "\n",
    "age_social_dict"
   ]
  },
  {
   "cell_type": "markdown",
   "metadata": {},
   "source": [
    "The following DataFrame shows the percentages of women developers employed at the time of the survey grouped by age ranges of:\n",
    " - younger than 18 (<18),\n",
    " - between 18 and 25 (18-25],\n",
    " - between 25 and 32 (25-32],\n",
    " - between 32 and 39 (32-39],\n",
    " - between 39 and 46 (39-46],\n",
    " - between 46 and 53 (46-53],\n",
    " - older than 53 (53+)"
   ]
  },
  {
   "cell_type": "code",
   "execution_count": 63,
   "metadata": {
    "scrolled": true
   },
   "outputs": [
    {
     "data": {
      "text/html": [
       "<div>\n",
       "<style scoped>\n",
       "    .dataframe tbody tr th:only-of-type {\n",
       "        vertical-align: middle;\n",
       "    }\n",
       "\n",
       "    .dataframe tbody tr th {\n",
       "        vertical-align: top;\n",
       "    }\n",
       "\n",
       "    .dataframe thead th {\n",
       "        text-align: right;\n",
       "    }\n",
       "</style>\n",
       "<table border=\"1\" class=\"dataframe\">\n",
       "  <thead>\n",
       "    <tr style=\"text-align: right;\">\n",
       "      <th></th>\n",
       "      <th>Instagram</th>\n",
       "      <th>LinkedIn</th>\n",
       "      <th>None</th>\n",
       "      <th>Reddit</th>\n",
       "      <th>Snapchat</th>\n",
       "      <th>Twitter</th>\n",
       "      <th>VK</th>\n",
       "      <th>WeChat</th>\n",
       "      <th>Weibo</th>\n",
       "      <th>WhatsApp</th>\n",
       "      <th>YouTube</th>\n",
       "    </tr>\n",
       "    <tr>\n",
       "      <th>AgeRange</th>\n",
       "      <th></th>\n",
       "      <th></th>\n",
       "      <th></th>\n",
       "      <th></th>\n",
       "      <th></th>\n",
       "      <th></th>\n",
       "      <th></th>\n",
       "      <th></th>\n",
       "      <th></th>\n",
       "      <th></th>\n",
       "      <th></th>\n",
       "    </tr>\n",
       "  </thead>\n",
       "  <tbody>\n",
       "    <tr>\n",
       "      <th>&lt;18</th>\n",
       "      <td>11.111111</td>\n",
       "      <td>0.000000</td>\n",
       "      <td>0.000000</td>\n",
       "      <td>27.777778</td>\n",
       "      <td>0.000000</td>\n",
       "      <td>16.666667</td>\n",
       "      <td>0.000000</td>\n",
       "      <td>0.000000</td>\n",
       "      <td>0.000000</td>\n",
       "      <td>5.555556</td>\n",
       "      <td>38.888889</td>\n",
       "    </tr>\n",
       "    <tr>\n",
       "      <th>18-25</th>\n",
       "      <td>19.150708</td>\n",
       "      <td>3.330558</td>\n",
       "      <td>2.497918</td>\n",
       "      <td>12.905912</td>\n",
       "      <td>1.248959</td>\n",
       "      <td>12.572856</td>\n",
       "      <td>0.999167</td>\n",
       "      <td>0.999167</td>\n",
       "      <td>0.166528</td>\n",
       "      <td>15.736886</td>\n",
       "      <td>12.739384</td>\n",
       "    </tr>\n",
       "    <tr>\n",
       "      <th>25-32</th>\n",
       "      <td>20.925229</td>\n",
       "      <td>3.926842</td>\n",
       "      <td>2.366864</td>\n",
       "      <td>12.103281</td>\n",
       "      <td>0.753093</td>\n",
       "      <td>17.590102</td>\n",
       "      <td>0.537924</td>\n",
       "      <td>0.537924</td>\n",
       "      <td>0.000000</td>\n",
       "      <td>14.954276</td>\n",
       "      <td>8.337816</td>\n",
       "    </tr>\n",
       "    <tr>\n",
       "      <th>32-39</th>\n",
       "      <td>12.247839</td>\n",
       "      <td>4.610951</td>\n",
       "      <td>3.890490</td>\n",
       "      <td>8.357349</td>\n",
       "      <td>0.000000</td>\n",
       "      <td>24.639769</td>\n",
       "      <td>0.576369</td>\n",
       "      <td>0.576369</td>\n",
       "      <td>0.000000</td>\n",
       "      <td>12.391931</td>\n",
       "      <td>7.636888</td>\n",
       "    </tr>\n",
       "    <tr>\n",
       "      <th>39-46</th>\n",
       "      <td>6.959707</td>\n",
       "      <td>6.959707</td>\n",
       "      <td>4.395604</td>\n",
       "      <td>4.029304</td>\n",
       "      <td>0.000000</td>\n",
       "      <td>34.065934</td>\n",
       "      <td>0.366300</td>\n",
       "      <td>0.000000</td>\n",
       "      <td>0.366300</td>\n",
       "      <td>9.890110</td>\n",
       "      <td>5.128205</td>\n",
       "    </tr>\n",
       "    <tr>\n",
       "      <th>46-53</th>\n",
       "      <td>4.964539</td>\n",
       "      <td>5.673759</td>\n",
       "      <td>5.673759</td>\n",
       "      <td>3.546099</td>\n",
       "      <td>0.000000</td>\n",
       "      <td>31.205674</td>\n",
       "      <td>0.000000</td>\n",
       "      <td>0.000000</td>\n",
       "      <td>0.000000</td>\n",
       "      <td>6.382979</td>\n",
       "      <td>6.382979</td>\n",
       "    </tr>\n",
       "    <tr>\n",
       "      <th>53+</th>\n",
       "      <td>1.754386</td>\n",
       "      <td>8.771930</td>\n",
       "      <td>12.280702</td>\n",
       "      <td>3.508772</td>\n",
       "      <td>0.000000</td>\n",
       "      <td>29.824561</td>\n",
       "      <td>0.000000</td>\n",
       "      <td>0.000000</td>\n",
       "      <td>0.000000</td>\n",
       "      <td>14.035088</td>\n",
       "      <td>3.508772</td>\n",
       "    </tr>\n",
       "  </tbody>\n",
       "</table>\n",
       "</div>"
      ],
      "text/plain": [
       "          Instagram  LinkedIn       None     Reddit  Snapchat    Twitter  \\\n",
       "AgeRange                                                                   \n",
       "<18       11.111111  0.000000   0.000000  27.777778  0.000000  16.666667   \n",
       "18-25     19.150708  3.330558   2.497918  12.905912  1.248959  12.572856   \n",
       "25-32     20.925229  3.926842   2.366864  12.103281  0.753093  17.590102   \n",
       "32-39     12.247839  4.610951   3.890490   8.357349  0.000000  24.639769   \n",
       "39-46      6.959707  6.959707   4.395604   4.029304  0.000000  34.065934   \n",
       "46-53      4.964539  5.673759   5.673759   3.546099  0.000000  31.205674   \n",
       "53+        1.754386  8.771930  12.280702   3.508772  0.000000  29.824561   \n",
       "\n",
       "                VK    WeChat     Weibo   WhatsApp    YouTube  \n",
       "AgeRange                                                      \n",
       "<18       0.000000  0.000000  0.000000   5.555556  38.888889  \n",
       "18-25     0.999167  0.999167  0.166528  15.736886  12.739384  \n",
       "25-32     0.537924  0.537924  0.000000  14.954276   8.337816  \n",
       "32-39     0.576369  0.576369  0.000000  12.391931   7.636888  \n",
       "39-46     0.366300  0.000000  0.366300   9.890110   5.128205  \n",
       "46-53     0.000000  0.000000  0.000000   6.382979   6.382979  \n",
       "53+       0.000000  0.000000  0.000000  14.035088   3.508772  "
      ]
     },
     "execution_count": 63,
     "metadata": {},
     "output_type": "execute_result"
    }
   ],
   "source": [
    "age_social_media"
   ]
  },
  {
   "cell_type": "markdown",
   "metadata": {},
   "source": [
    "Even though it is informative on its own, it doesn't say much since I have to search back and forth to get the maximum values.  \n",
    "I can quickly solve this by creating a new DataFrame with the maximum values per index and the associated percentage.  \n",
    "I transposed both columns to have all values of *AgeRange* as columns and both *Most Used Site* and *% of users* as indexes."
   ]
  },
  {
   "cell_type": "code",
   "execution_count": 64,
   "metadata": {
    "scrolled": false
   },
   "outputs": [
    {
     "data": {
      "text/html": [
       "<div>\n",
       "<style scoped>\n",
       "    .dataframe tbody tr th:only-of-type {\n",
       "        vertical-align: middle;\n",
       "    }\n",
       "\n",
       "    .dataframe tbody tr th {\n",
       "        vertical-align: top;\n",
       "    }\n",
       "\n",
       "    .dataframe thead th {\n",
       "        text-align: right;\n",
       "    }\n",
       "</style>\n",
       "<table border=\"1\" class=\"dataframe\">\n",
       "  <thead>\n",
       "    <tr style=\"text-align: right;\">\n",
       "      <th>AgeRange</th>\n",
       "      <th>&lt;18</th>\n",
       "      <th>18-25</th>\n",
       "      <th>25-32</th>\n",
       "      <th>32-39</th>\n",
       "      <th>39-46</th>\n",
       "      <th>46-53</th>\n",
       "      <th>53+</th>\n",
       "    </tr>\n",
       "  </thead>\n",
       "  <tbody>\n",
       "    <tr>\n",
       "      <th>Most Used Site</th>\n",
       "      <td>YouTube</td>\n",
       "      <td>Instagram</td>\n",
       "      <td>Instagram</td>\n",
       "      <td>Twitter</td>\n",
       "      <td>Twitter</td>\n",
       "      <td>Twitter</td>\n",
       "      <td>Twitter</td>\n",
       "    </tr>\n",
       "    <tr>\n",
       "      <th>% of users</th>\n",
       "      <td>38.89</td>\n",
       "      <td>19.15</td>\n",
       "      <td>20.93</td>\n",
       "      <td>24.64</td>\n",
       "      <td>34.07</td>\n",
       "      <td>31.21</td>\n",
       "      <td>29.82</td>\n",
       "    </tr>\n",
       "  </tbody>\n",
       "</table>\n",
       "</div>"
      ],
      "text/plain": [
       "AgeRange            <18      18-25      25-32    32-39    39-46    46-53  \\\n",
       "Most Used Site  YouTube  Instagram  Instagram  Twitter  Twitter  Twitter   \n",
       "% of users        38.89      19.15      20.93    24.64    34.07    31.21   \n",
       "\n",
       "AgeRange            53+  \n",
       "Most Used Site  Twitter  \n",
       "% of users        29.82  "
      ]
     },
     "execution_count": 64,
     "metadata": {},
     "output_type": "execute_result"
    }
   ],
   "source": [
    "most_used_media = pd.DataFrame([age_social_media.T.idxmax(), round(age_social_media.T.max(), 2)], \n",
    "                               index=['Most Used Site', '% of users'])\n",
    "most_used_media"
   ]
  },
  {
   "cell_type": "markdown",
   "metadata": {},
   "source": [
    "I extract another note from this data wrangling using the dictionary I previously created and another list to store significant data."
   ]
  },
  {
   "cell_type": "code",
   "execution_count": 65,
   "metadata": {},
   "outputs": [],
   "source": [
    "age_social_vals = [search_question(schema, \"social\")[0]['question'].lower(), \n",
    "                   df_woman.shape[0], \n",
    "                   df_woman[['Age', 'SocialMedia']].isnull().sum().sum(),\n",
    "                   woman_age_socialmedia.shape[0]]\n",
    "\n",
    "for col in most_used_media.columns:\n",
    "    age_social_vals.append(int(woman_age_socialmedia.shape[0] * most_used_media[col]['% of users'] / 100))\n",
    "    age_social_vals.append(age_social_dict[col])\n",
    "    age_social_vals.append(most_used_media[col]['Most Used Site'])\n",
    "    age_social_vals.append(most_used_media[col]['% of users'])\n",
    "\n",
    "notes.append('When asked \"{}\" to {} women developers, {} didn\\'t provide one of/both their age and \\\n",
    "social media site of preference. From the {} who provided the information, \\\n",
    "\\n - {} women, {} years old, said {} ({}%),\\\n",
    "\\n - {} women, {} years old, said {} ({}%), \\\n",
    "\\n - {} women, {} years old, said {} ({}%), \\\n",
    "\\n - {} women, {} years old, said {} ({}%), \\\n",
    "\\n - {} women, {} years old, said {} ({}%), \\\n",
    "\\n - {} women, {} years old, said {} ({}%), \\\n",
    "\\n - {} women, {} years old, site of choice was {} ({}%).'.format(*age_social_vals))"
   ]
  },
  {
   "cell_type": "markdown",
   "metadata": {},
   "source": [
    "Next, I found useful to visualize the matrix of values with a heatmap as done with *Ethnicity*."
   ]
  },
  {
   "cell_type": "code",
   "execution_count": 66,
   "metadata": {
    "scrolled": true
   },
   "outputs": [
    {
     "data": {
      "image/png": "[encoded data removed]",
      "text/plain": [
       "<Figure size 1080x576 with 2 Axes>"
      ]
     },
     "metadata": {
      "needs_background": "light"
     },
     "output_type": "display_data"
    }
   ],
   "source": [
    "fig, ax = plt.subplots(figsize=(15, 8))\n",
    "ax = sns.heatmap(age_social_media, annot=True, fmt=\".2f\")\n",
    "for t in ax.texts: \n",
    "    t.set_text(t.get_text() + \"%\")\n",
    "plt.autoscale()\n",
    "plt.savefig('img/SocialMedia.png', bbox_inches = \"tight\");"
   ]
  },
  {
   "cell_type": "markdown",
   "metadata": {},
   "source": [
    "## Women vs. Stack Overflow"
   ]
  },
  {
   "cell_type": "markdown",
   "metadata": {},
   "source": [
    "Last but not least, how do these actively working women developers interact with Stack Overflow?"
   ]
  },
  {
   "cell_type": "markdown",
   "metadata": {},
   "source": [
    "First I need to know which columns are related with Stack Overflow in terms o questions, so:"
   ]
  },
  {
   "cell_type": "code",
   "execution_count": 67,
   "metadata": {},
   "outputs": [
    {
     "data": {
      "text/plain": [
       "[{'id': 64,\n",
       "  'colname': 'SOVisit1st',\n",
       "  'question': 'To the best of your memory, when did you first visit Stack Overflow?'},\n",
       " {'id': 65,\n",
       "  'colname': 'SOVisitFreq',\n",
       "  'question': 'How frequently would you say you visit Stack Overflow?'},\n",
       " {'id': 66,\n",
       "  'colname': 'SOVisitTo',\n",
       "  'question': 'I visit Stack Overflow to... (check all that apply)'},\n",
       " {'id': 67,\n",
       "  'colname': 'SOFindAnswer',\n",
       "  'question': 'On average, how many times a week do you find (and use) an answer on Stack Overflow?'},\n",
       " {'id': 68,\n",
       "  'colname': 'SOTimeSaved',\n",
       "  'question': 'Think back to the last time you solved a coding problem using Stack Overflow, as well as the last time you solved a problem using a different resource. Which was faster?'},\n",
       " {'id': 70,\n",
       "  'colname': 'SOAccount',\n",
       "  'question': 'Do you have a Stack Overflow account?'},\n",
       " {'id': 71,\n",
       "  'colname': 'SOPartFreq',\n",
       "  'question': 'How frequently would you say you participate in Q&A on Stack Overflow? By participate we mean ask, answer, vote for, or comment on questions.'},\n",
       " {'id': 72,\n",
       "  'colname': 'SOJobs',\n",
       "  'question': 'Have you ever used or visited Stack Overflow Jobs?'},\n",
       " {'id': 73,\n",
       "  'colname': 'EntTeams',\n",
       "  'question': 'Have you ever used Stack Overflow for Enterprise or Stack Overflow for Teams?'},\n",
       " {'id': 74,\n",
       "  'colname': 'SOComm',\n",
       "  'question': 'Do you consider yourself a member of the Stack Overflow community?'},\n",
       " {'id': 75,\n",
       "  'colname': 'WelcomeChange',\n",
       "  'question': 'Compared to last year, how welcome do you feel on Stack Overflow?'},\n",
       " {'id': 76,\n",
       "  'colname': 'SONewContent',\n",
       "  'question': 'Would you like to see any of the following on Stack Overflow? Check all that apply.'}]"
      ]
     },
     "execution_count": 67,
     "metadata": {},
     "output_type": "execute_result"
    }
   ],
   "source": [
    "search_question(schema, \"Stack Overflow\")"
   ]
  },
  {
   "cell_type": "markdown",
   "metadata": {},
   "source": [
    "Next, I'm going to copy a subset of questions from ***df_woman***.  \n",
    "This prevents me from messing with the data I've been wrangling, and be sure I'll keep this new DataFrame separate from ***df_woman***."
   ]
  },
  {
   "cell_type": "code",
   "execution_count": 68,
   "metadata": {
    "scrolled": true
   },
   "outputs": [
    {
     "data": {
      "text/html": [
       "<div>\n",
       "<style scoped>\n",
       "    .dataframe tbody tr th:only-of-type {\n",
       "        vertical-align: middle;\n",
       "    }\n",
       "\n",
       "    .dataframe tbody tr th {\n",
       "        vertical-align: top;\n",
       "    }\n",
       "\n",
       "    .dataframe thead th {\n",
       "        text-align: right;\n",
       "    }\n",
       "</style>\n",
       "<table border=\"1\" class=\"dataframe\">\n",
       "  <thead>\n",
       "    <tr style=\"text-align: right;\">\n",
       "      <th></th>\n",
       "      <th>Age</th>\n",
       "      <th>MainBranch</th>\n",
       "      <th>Employment</th>\n",
       "      <th>YearsCodePro</th>\n",
       "      <th>SOVisit1st</th>\n",
       "      <th>SOVisitFreq</th>\n",
       "      <th>SOVisitTo</th>\n",
       "      <th>SOFindAnswer</th>\n",
       "      <th>SOTimeSaved</th>\n",
       "      <th>SOHowMuchTime</th>\n",
       "      <th>SOAccount</th>\n",
       "      <th>SOPartFreq</th>\n",
       "      <th>SOJobs</th>\n",
       "      <th>EntTeams</th>\n",
       "      <th>SOComm</th>\n",
       "      <th>WelcomeChange</th>\n",
       "      <th>SONewContent</th>\n",
       "    </tr>\n",
       "  </thead>\n",
       "  <tbody>\n",
       "    <tr>\n",
       "      <th>34</th>\n",
       "      <td>35.0</td>\n",
       "      <td>I am a developer by profession</td>\n",
       "      <td>Employed full-time</td>\n",
       "      <td>14</td>\n",
       "      <td>2014</td>\n",
       "      <td>A few times per month or weekly</td>\n",
       "      <td>Find answers to specific questions</td>\n",
       "      <td>1-2 times per week</td>\n",
       "      <td>Stack Overflow was slightly faster</td>\n",
       "      <td>11-30 minutes</td>\n",
       "      <td>No</td>\n",
       "      <td>NaN</td>\n",
       "      <td>No, I knew that Stack Overflow had a job board...</td>\n",
       "      <td>No, and I don't know what those are</td>\n",
       "      <td>Not sure</td>\n",
       "      <td>Just as welcome now as I felt last year</td>\n",
       "      <td>Tech articles written by other developers;Indu...</td>\n",
       "    </tr>\n",
       "    <tr>\n",
       "      <th>70</th>\n",
       "      <td>21.0</td>\n",
       "      <td>I am a developer by profession</td>\n",
       "      <td>Employed full-time</td>\n",
       "      <td>Less than 1 year</td>\n",
       "      <td>2013</td>\n",
       "      <td>Daily or almost daily</td>\n",
       "      <td>Find answers to specific questions;Pass the ti...</td>\n",
       "      <td>3-5 times per week</td>\n",
       "      <td>They were about the same</td>\n",
       "      <td>NaN</td>\n",
       "      <td>Yes</td>\n",
       "      <td>A few times per week</td>\n",
       "      <td>Yes</td>\n",
       "      <td>No, I've heard of them, but I am not part of a...</td>\n",
       "      <td>Yes, definitely</td>\n",
       "      <td>A lot more welcome now than last year</td>\n",
       "      <td>Tech articles written by other developers;Tech...</td>\n",
       "    </tr>\n",
       "    <tr>\n",
       "      <th>74</th>\n",
       "      <td>27.0</td>\n",
       "      <td>I am a developer by profession</td>\n",
       "      <td>Employed full-time</td>\n",
       "      <td>7</td>\n",
       "      <td>2012</td>\n",
       "      <td>Daily or almost daily</td>\n",
       "      <td>Find answers to specific questions</td>\n",
       "      <td>Less than once per week</td>\n",
       "      <td>Stack Overflow was much faster</td>\n",
       "      <td>11-30 minutes</td>\n",
       "      <td>Yes</td>\n",
       "      <td>Less than once per month or monthly</td>\n",
       "      <td>Yes</td>\n",
       "      <td>No, and I don't know what those are</td>\n",
       "      <td>Neutral</td>\n",
       "      <td>Just as welcome now as I felt last year</td>\n",
       "      <td>Courses on technologies you're interested in</td>\n",
       "    </tr>\n",
       "    <tr>\n",
       "      <th>85</th>\n",
       "      <td>26.0</td>\n",
       "      <td>I am not primarily a developer, but I write co...</td>\n",
       "      <td>Employed full-time</td>\n",
       "      <td>3</td>\n",
       "      <td>2016</td>\n",
       "      <td>Multiple times per day</td>\n",
       "      <td>Find answers to specific questions;Contribute ...</td>\n",
       "      <td>More than 10 times per week</td>\n",
       "      <td>Stack Overflow was much faster</td>\n",
       "      <td>11-30 minutes</td>\n",
       "      <td>Yes</td>\n",
       "      <td>A few times per month or weekly</td>\n",
       "      <td>Yes</td>\n",
       "      <td>No, I've heard of them, but I am not part of a...</td>\n",
       "      <td>Yes, somewhat</td>\n",
       "      <td>Somewhat more welcome now than last year</td>\n",
       "      <td>Tech articles written by other developers;Indu...</td>\n",
       "    </tr>\n",
       "    <tr>\n",
       "      <th>99</th>\n",
       "      <td>39.0</td>\n",
       "      <td>I am a developer by profession</td>\n",
       "      <td>Employed full-time</td>\n",
       "      <td>20</td>\n",
       "      <td>2008</td>\n",
       "      <td>Daily or almost daily</td>\n",
       "      <td>Find answers to specific questions</td>\n",
       "      <td>3-5 times per week</td>\n",
       "      <td>Stack Overflow was much faster</td>\n",
       "      <td>0-10 minutes</td>\n",
       "      <td>Yes</td>\n",
       "      <td>Less than once per month or monthly</td>\n",
       "      <td>Yes</td>\n",
       "      <td>No, I've heard of them, but I am not part of a...</td>\n",
       "      <td>Neutral</td>\n",
       "      <td>Just as welcome now as I felt last year</td>\n",
       "      <td>NaN</td>\n",
       "    </tr>\n",
       "  </tbody>\n",
       "</table>\n",
       "</div>"
      ],
      "text/plain": [
       "     Age                                         MainBranch  \\\n",
       "34  35.0                     I am a developer by profession   \n",
       "70  21.0                     I am a developer by profession   \n",
       "74  27.0                     I am a developer by profession   \n",
       "85  26.0  I am not primarily a developer, but I write co...   \n",
       "99  39.0                     I am a developer by profession   \n",
       "\n",
       "            Employment      YearsCodePro SOVisit1st  \\\n",
       "34  Employed full-time                14       2014   \n",
       "70  Employed full-time  Less than 1 year       2013   \n",
       "74  Employed full-time                 7       2012   \n",
       "85  Employed full-time                 3       2016   \n",
       "99  Employed full-time                20       2008   \n",
       "\n",
       "                        SOVisitFreq  \\\n",
       "34  A few times per month or weekly   \n",
       "70            Daily or almost daily   \n",
       "74            Daily or almost daily   \n",
       "85           Multiple times per day   \n",
       "99            Daily or almost daily   \n",
       "\n",
       "                                            SOVisitTo  \\\n",
       "34                 Find answers to specific questions   \n",
       "70  Find answers to specific questions;Pass the ti...   \n",
       "74                 Find answers to specific questions   \n",
       "85  Find answers to specific questions;Contribute ...   \n",
       "99                 Find answers to specific questions   \n",
       "\n",
       "                   SOFindAnswer                         SOTimeSaved  \\\n",
       "34           1-2 times per week  Stack Overflow was slightly faster   \n",
       "70           3-5 times per week            They were about the same   \n",
       "74      Less than once per week      Stack Overflow was much faster   \n",
       "85  More than 10 times per week      Stack Overflow was much faster   \n",
       "99           3-5 times per week      Stack Overflow was much faster   \n",
       "\n",
       "    SOHowMuchTime SOAccount                           SOPartFreq  \\\n",
       "34  11-30 minutes        No                                  NaN   \n",
       "70            NaN       Yes                 A few times per week   \n",
       "74  11-30 minutes       Yes  Less than once per month or monthly   \n",
       "85  11-30 minutes       Yes      A few times per month or weekly   \n",
       "99   0-10 minutes       Yes  Less than once per month or monthly   \n",
       "\n",
       "                                               SOJobs  \\\n",
       "34  No, I knew that Stack Overflow had a job board...   \n",
       "70                                                Yes   \n",
       "74                                                Yes   \n",
       "85                                                Yes   \n",
       "99                                                Yes   \n",
       "\n",
       "                                             EntTeams           SOComm  \\\n",
       "34                No, and I don't know what those are         Not sure   \n",
       "70  No, I've heard of them, but I am not part of a...  Yes, definitely   \n",
       "74                No, and I don't know what those are          Neutral   \n",
       "85  No, I've heard of them, but I am not part of a...    Yes, somewhat   \n",
       "99  No, I've heard of them, but I am not part of a...          Neutral   \n",
       "\n",
       "                               WelcomeChange  \\\n",
       "34   Just as welcome now as I felt last year   \n",
       "70     A lot more welcome now than last year   \n",
       "74   Just as welcome now as I felt last year   \n",
       "85  Somewhat more welcome now than last year   \n",
       "99   Just as welcome now as I felt last year   \n",
       "\n",
       "                                         SONewContent  \n",
       "34  Tech articles written by other developers;Indu...  \n",
       "70  Tech articles written by other developers;Tech...  \n",
       "74       Courses on technologies you're interested in  \n",
       "85  Tech articles written by other developers;Indu...  \n",
       "99                                                NaN  "
      ]
     },
     "execution_count": 68,
     "metadata": {},
     "output_type": "execute_result"
    }
   ],
   "source": [
    "stackoverflow = df_woman[['Age', 'MainBranch', 'Employment', 'YearsCodePro',\n",
    "          'SOVisit1st', 'SOVisitFreq', 'SOVisitTo',\n",
    "          'SOFindAnswer', 'SOTimeSaved', 'SOHowMuchTime',\n",
    "          'SOAccount', 'SOPartFreq', 'SOJobs', 'EntTeams',\n",
    "          'SOComm', 'WelcomeChange', 'SONewContent']].copy()\n",
    "\n",
    "stackoverflow.head()"
   ]
  },
  {
   "cell_type": "markdown",
   "metadata": {},
   "source": [
    "How many women answered any of these questions?"
   ]
  },
  {
   "cell_type": "code",
   "execution_count": 69,
   "metadata": {
    "scrolled": true
   },
   "outputs": [
    {
     "data": {
      "text/plain": [
       "4848"
      ]
     },
     "execution_count": 69,
     "metadata": {},
     "output_type": "execute_result"
    }
   ],
   "source": [
    "stackoverflow.shape[0]"
   ]
  },
  {
   "cell_type": "markdown",
   "metadata": {},
   "source": [
    "How many women didn\\'t answer some of these questions?"
   ]
  },
  {
   "cell_type": "code",
   "execution_count": 70,
   "metadata": {},
   "outputs": [
    {
     "data": {
      "text/plain": [
       "4946"
      ]
     },
     "execution_count": 70,
     "metadata": {},
     "output_type": "execute_result"
    }
   ],
   "source": [
    "stackoverflow.isnull().sum().sum()"
   ]
  },
  {
   "cell_type": "markdown",
   "metadata": {},
   "source": [
    "Let's keep information from only those who answered all of the questions about Stack Overflow."
   ]
  },
  {
   "cell_type": "code",
   "execution_count": 71,
   "metadata": {},
   "outputs": [
    {
     "data": {
      "text/plain": [
       "1837"
      ]
     },
     "execution_count": 71,
     "metadata": {},
     "output_type": "execute_result"
    }
   ],
   "source": [
    "stackoverflow.dropna(how='any', inplace=True)\n",
    "stackoverflow.shape[0]"
   ]
  },
  {
   "cell_type": "markdown",
   "metadata": {},
   "source": [
    "Now, I'd like to see if there's some relation between the first time they visited Stack Overflow (*SOVisit1st*), the years of coding professionally (*YearsCodePro*), and the frequency of participation in the community (*SOPartFreq*).\n",
    "\n",
    "First, let's take a look at the unique values for *YearsCodePro* and *SOVisit1st*."
   ]
  },
  {
   "cell_type": "code",
   "execution_count": 72,
   "metadata": {
    "scrolled": true
   },
   "outputs": [
    {
     "data": {
      "text/plain": [
       "array(['7', '3', '9', '1', '2', '6', '5', 'Less than 1 year', '4', '10',\n",
       "       '12', '19', '24', '22', '15', '21', '17', '26', '30', '8', '11',\n",
       "       '13', '18', '20', '16', '32', '29', '14', '23', '25', '27', '31',\n",
       "       '36', '37', '38'], dtype=object)"
      ]
     },
     "execution_count": 72,
     "metadata": {},
     "output_type": "execute_result"
    }
   ],
   "source": [
    "stackoverflow['YearsCodePro'].unique()"
   ]
  },
  {
   "cell_type": "markdown",
   "metadata": {},
   "source": [
    "As we see in *YearsCodePro*, not all values can be converted to numbers.  \n",
    "To represent ```\"Less than 1 year\"```, I'm going to impute it with a ```0```, since less than 12 months don't make a full year."
   ]
  },
  {
   "cell_type": "code",
   "execution_count": 73,
   "metadata": {
    "scrolled": false
   },
   "outputs": [
    {
     "data": {
      "text/plain": [
       "array(['2012', '2016', \"I don't remember\", '2013', '2015', '2010', '2014',\n",
       "       '2011', '2017', '2009', '2008', '2018', '2019'], dtype=object)"
      ]
     },
     "execution_count": 73,
     "metadata": {},
     "output_type": "execute_result"
    }
   ],
   "source": [
    "stackoverflow['SOVisit1st'].unique()"
   ]
  },
  {
   "cell_type": "markdown",
   "metadata": {},
   "source": [
    "Again in *SOVisit1st*, not all values can be converted to numbers.  \n",
    "To represent ```\"I don't remember\"```, I'm going to impute it with ```2019```, when the survey was launched, based on the assumption that at least they visited SO to complete the survey."
   ]
  },
  {
   "cell_type": "markdown",
   "metadata": {},
   "source": [
    "I'm copying and imputing *YearsCodePro* in ***years_SO***. I also casted the values to ```integer``` to be able to perfom calculations with them in the next lines.  \n",
    "  \n",
    "Then I create the column *YearsSince1stVisitSO*, that stores how many years have passed between their first visit to SO and the year of the survey (2019).  \n",
    "  \n",
    "The next line is yet another column named *YearsCodePro+SO* that stores the differences between the years as professional developers and the years since the first visit to SO.  \n",
    "  \n",
    "Values for *YearsCodePro+SO* would be interpreted as follows:\n",
    " - negative: the developer has been *x* years working professionally without visiting SO  \n",
    "\n",
    "- positive: the developer has been *x* years working professionally visiting SO  "
   ]
  },
  {
   "cell_type": "code",
   "execution_count": 74,
   "metadata": {
    "scrolled": true
   },
   "outputs": [
    {
     "data": {
      "text/html": [
       "<div>\n",
       "<style scoped>\n",
       "    .dataframe tbody tr th:only-of-type {\n",
       "        vertical-align: middle;\n",
       "    }\n",
       "\n",
       "    .dataframe tbody tr th {\n",
       "        vertical-align: top;\n",
       "    }\n",
       "\n",
       "    .dataframe thead th {\n",
       "        text-align: right;\n",
       "    }\n",
       "</style>\n",
       "<table border=\"1\" class=\"dataframe\">\n",
       "  <thead>\n",
       "    <tr style=\"text-align: right;\">\n",
       "      <th></th>\n",
       "      <th>YearsCodePro</th>\n",
       "      <th>YearsSince1stVisitSO</th>\n",
       "      <th>YearsCodePro+SO</th>\n",
       "    </tr>\n",
       "  </thead>\n",
       "  <tbody>\n",
       "    <tr>\n",
       "      <th>74</th>\n",
       "      <td>7</td>\n",
       "      <td>7</td>\n",
       "      <td>0</td>\n",
       "    </tr>\n",
       "    <tr>\n",
       "      <th>85</th>\n",
       "      <td>3</td>\n",
       "      <td>3</td>\n",
       "      <td>0</td>\n",
       "    </tr>\n",
       "    <tr>\n",
       "      <th>179</th>\n",
       "      <td>9</td>\n",
       "      <td>0</td>\n",
       "      <td>-9</td>\n",
       "    </tr>\n",
       "    <tr>\n",
       "      <th>185</th>\n",
       "      <td>1</td>\n",
       "      <td>6</td>\n",
       "      <td>5</td>\n",
       "    </tr>\n",
       "    <tr>\n",
       "      <th>221</th>\n",
       "      <td>2</td>\n",
       "      <td>4</td>\n",
       "      <td>2</td>\n",
       "    </tr>\n",
       "  </tbody>\n",
       "</table>\n",
       "</div>"
      ],
      "text/plain": [
       "     YearsCodePro  YearsSince1stVisitSO  YearsCodePro+SO\n",
       "74              7                     7                0\n",
       "85              3                     3                0\n",
       "179             9                     0               -9\n",
       "185             1                     6                5\n",
       "221             2                     4                2"
      ]
     },
     "execution_count": 74,
     "metadata": {},
     "output_type": "execute_result"
    }
   ],
   "source": [
    "# Copy, impute and store YearsCodePro in years_SO\n",
    "years_SO = stackoverflow[['YearsCodePro']].replace(\"Less than 1 year\", 0.5, regex=True).copy().astype(int)\n",
    "\n",
    "# Impute SOVisit1st, compute the difference between the year of the survey, cast it as integer,\n",
    "#and store it in years_SO as YearsSince1stVisitSO\n",
    "years_SO['YearsSince1stVisitSO'] = 2019 - stackoverflow['SOVisit1st']\\\n",
    ".replace(\"I don't remember\", 2019, regex=True).astype(int)\n",
    "\n",
    "# Compute the difference between YearsSince1stVisitSO and YearsCodePro\n",
    "years_SO['YearsCodePro+SO'] = years_SO['YearsSince1stVisitSO'] - years_SO['YearsCodePro']\n",
    "\n",
    "years_SO.head()"
   ]
  },
  {
   "cell_type": "markdown",
   "metadata": {},
   "source": [
    "We obtained the values as predicted before, but a better way to make sense of continuous data is by binning the data, same as did before for [Age vs. Social Media](#Age-vs.-Social-Media)."
   ]
  },
  {
   "cell_type": "markdown",
   "metadata": {},
   "source": [
    "Let's take a better look at the bins we're going to generate next:\n",
    "\n",
    " - Devs with 12 or more years of professional experience before their first visit: **(-inf, -12.0]**\n",
    " - Devs with 1 to almost 12 years of professional experience before their first visit: **(-12.0, -1.0]**\n",
    " - Devs who visited SO for the first time around the same time they started to work as developers, **(-1.0, 0.0]**\n",
    " - Devs who visited SO for the first time around the time they started to work as developers and as far as 3 years before that moment, **(0.0, 3.0]**\n",
    " - Devs who visited SO for the first time around 3 years before they started to work as developers and as far as 5 years before that moment, **(3.0, 5.0]**\n",
    " - Devs who visited SO for the first time more than 5 years before they started to work a developers, **(5.0, inf]**\n",
    " \n"
   ]
  },
  {
   "cell_type": "code",
   "execution_count": 75,
   "metadata": {},
   "outputs": [
    {
     "data": {
      "text/html": [
       "<div>\n",
       "<style scoped>\n",
       "    .dataframe tbody tr th:only-of-type {\n",
       "        vertical-align: middle;\n",
       "    }\n",
       "\n",
       "    .dataframe tbody tr th {\n",
       "        vertical-align: top;\n",
       "    }\n",
       "\n",
       "    .dataframe thead th {\n",
       "        text-align: right;\n",
       "    }\n",
       "</style>\n",
       "<table border=\"1\" class=\"dataframe\">\n",
       "  <thead>\n",
       "    <tr style=\"text-align: right;\">\n",
       "      <th></th>\n",
       "      <th>YearsCodePro</th>\n",
       "      <th>YearsSince1stVisitSO</th>\n",
       "      <th>YearsCodePro+SO</th>\n",
       "    </tr>\n",
       "  </thead>\n",
       "  <tbody>\n",
       "    <tr>\n",
       "      <th>74</th>\n",
       "      <td>7</td>\n",
       "      <td>7</td>\n",
       "      <td>Work+SO same time</td>\n",
       "    </tr>\n",
       "    <tr>\n",
       "      <th>85</th>\n",
       "      <td>3</td>\n",
       "      <td>3</td>\n",
       "      <td>Work+SO same time</td>\n",
       "    </tr>\n",
       "    <tr>\n",
       "      <th>179</th>\n",
       "      <td>9</td>\n",
       "      <td>0</td>\n",
       "      <td>1-12 before SO</td>\n",
       "    </tr>\n",
       "    <tr>\n",
       "      <th>185</th>\n",
       "      <td>1</td>\n",
       "      <td>6</td>\n",
       "      <td>3-5 after SO</td>\n",
       "    </tr>\n",
       "    <tr>\n",
       "      <th>221</th>\n",
       "      <td>2</td>\n",
       "      <td>4</td>\n",
       "      <td>0 to 3 after SO</td>\n",
       "    </tr>\n",
       "  </tbody>\n",
       "</table>\n",
       "</div>"
      ],
      "text/plain": [
       "     YearsCodePro  YearsSince1stVisitSO    YearsCodePro+SO\n",
       "74              7                     7  Work+SO same time\n",
       "85              3                     3  Work+SO same time\n",
       "179             9                     0     1-12 before SO\n",
       "185             1                     6       3-5 after SO\n",
       "221             2                     4    0 to 3 after SO"
      ]
     },
     "execution_count": 75,
     "metadata": {},
     "output_type": "execute_result"
    }
   ],
   "source": [
    "bins = [-np.inf, -12, -1, 0, 3, 5, np.inf]\n",
    "names = ['12+ before SO', \n",
    "         '1-12 before SO', \n",
    "         'Work+SO same time', \n",
    "         '0 to 3 after SO', \n",
    "         '3-5 after SO',\n",
    "         '5+ after SO']\n",
    "\n",
    "years_SO['YearsCodePro+SO'] = pd.cut(years_SO['YearsCodePro+SO'], bins, labels=names)\n",
    "\n",
    "years_SO.head()"
   ]
  },
  {
   "cell_type": "markdown",
   "metadata": {},
   "source": [
    "I'm going to create another dictionary to keep track of the meaning of each bin. The purpose is using them later to get notes on this analysis."
   ]
  },
  {
   "cell_type": "code",
   "execution_count": 76,
   "metadata": {},
   "outputs": [
    {
     "data": {
      "text/plain": [
       "{'12+ before SO': 'devs with 12 or more years of professional experience before their first visit',\n",
       " '1-12 before SO': 'devs with 1 to almost 12 years of professional experience before their first visit',\n",
       " 'Work+SO same time': 'devs who visited SO for the first time around the same time they started to work as developers',\n",
       " '0 to 3 after SO': 'devs who visited SO for the first time around the time they started to work as developers and as far as 3 years before that moment',\n",
       " '3-5 after SO': 'devs who visited SO for the first time around 3 years before they started to work as developers and as far as 5 years before that moment',\n",
       " '5+ after SO': 'devs who visited SO for the first time more than 5 years before they started to work a developers'}"
      ]
     },
     "execution_count": 76,
     "metadata": {},
     "output_type": "execute_result"
    }
   ],
   "source": [
    "years_SO_dict = {}\n",
    "\n",
    "strs = ['devs with 12 or more years of professional experience before their first visit',\n",
    "        'devs with 1 to almost 12 years of professional experience before their first visit', \n",
    "        'devs who visited SO for the first time around the same time they started to work as developers', \n",
    "        'devs who visited SO for the first time around the time they started to work as developers and as far as 3 years before that moment', \n",
    "        'devs who visited SO for the first time around 3 years before they started to work as developers and as far as 5 years before that moment', \n",
    "        'devs who visited SO for the first time more than 5 years before they started to work a developers']\n",
    "\n",
    "for idx, name in enumerate(names):\n",
    "    years_SO_dict[name] = strs[idx]\n",
    "\n",
    "years_SO_dict"
   ]
  },
  {
   "cell_type": "markdown",
   "metadata": {},
   "source": [
    "In the next cell, I take the following steps:\n",
    " - create a dummy DataFrame for the *SOPartFreq*, this will assign ```1``` if the category is present in the row or not, and ```0``` if not,\n",
    " - store it in ***dummy_years***,\n",
    " - group by *YearsCodePro+SO*, to have the values for each bin I previously created, and last\n",
    " - take the mean percentages of the values."
   ]
  },
  {
   "cell_type": "code",
   "execution_count": 77,
   "metadata": {
    "scrolled": false
   },
   "outputs": [],
   "source": [
    "dummies_years = pd.concat([years_SO['YearsCodePro+SO'], \n",
    "                           pd.get_dummies(stackoverflow['SOPartFreq'])], \n",
    "                          axis=1)\\\n",
    "                .groupby('YearsCodePro+SO').mean() * 100"
   ]
  },
  {
   "cell_type": "markdown",
   "metadata": {},
   "source": [
    "There's another thing that can help the visualization, the columns of ***dummy_years*** are actually ordinal variables.  \n",
    "Let's represent this by re-indexing the DataFrame with the provided list where I reordered the columns from more to less frequent."
   ]
  },
  {
   "cell_type": "code",
   "execution_count": 78,
   "metadata": {
    "scrolled": false
   },
   "outputs": [
    {
     "data": {
      "text/html": [
       "<div>\n",
       "<style scoped>\n",
       "    .dataframe tbody tr th:only-of-type {\n",
       "        vertical-align: middle;\n",
       "    }\n",
       "\n",
       "    .dataframe tbody tr th {\n",
       "        vertical-align: top;\n",
       "    }\n",
       "\n",
       "    .dataframe thead th {\n",
       "        text-align: right;\n",
       "    }\n",
       "</style>\n",
       "<table border=\"1\" class=\"dataframe\">\n",
       "  <thead>\n",
       "    <tr style=\"text-align: right;\">\n",
       "      <th></th>\n",
       "      <th>Multiple times per day</th>\n",
       "      <th>Daily or almost daily</th>\n",
       "      <th>A few times per week</th>\n",
       "      <th>A few times per month or weekly</th>\n",
       "      <th>Less than once per month or monthly</th>\n",
       "      <th>I have never participated in Q&amp;A on Stack Overflow</th>\n",
       "    </tr>\n",
       "    <tr>\n",
       "      <th>YearsCodePro+SO</th>\n",
       "      <th></th>\n",
       "      <th></th>\n",
       "      <th></th>\n",
       "      <th></th>\n",
       "      <th></th>\n",
       "      <th></th>\n",
       "    </tr>\n",
       "  </thead>\n",
       "  <tbody>\n",
       "    <tr>\n",
       "      <th>12+ before SO</th>\n",
       "      <td>1.869159</td>\n",
       "      <td>5.607477</td>\n",
       "      <td>4.672897</td>\n",
       "      <td>14.953271</td>\n",
       "      <td>44.859813</td>\n",
       "      <td>28.037383</td>\n",
       "    </tr>\n",
       "    <tr>\n",
       "      <th>1-12 before SO</th>\n",
       "      <td>2.997275</td>\n",
       "      <td>2.724796</td>\n",
       "      <td>7.901907</td>\n",
       "      <td>18.528610</td>\n",
       "      <td>41.416894</td>\n",
       "      <td>26.430518</td>\n",
       "    </tr>\n",
       "    <tr>\n",
       "      <th>Work+SO same time</th>\n",
       "      <td>5.527638</td>\n",
       "      <td>2.512563</td>\n",
       "      <td>5.025126</td>\n",
       "      <td>14.070352</td>\n",
       "      <td>39.195980</td>\n",
       "      <td>33.668342</td>\n",
       "    </tr>\n",
       "    <tr>\n",
       "      <th>0 to 3 after SO</th>\n",
       "      <td>2.749638</td>\n",
       "      <td>3.907381</td>\n",
       "      <td>6.801737</td>\n",
       "      <td>14.905933</td>\n",
       "      <td>37.337192</td>\n",
       "      <td>34.298119</td>\n",
       "    </tr>\n",
       "    <tr>\n",
       "      <th>3-5 after SO</th>\n",
       "      <td>2.906977</td>\n",
       "      <td>2.616279</td>\n",
       "      <td>4.651163</td>\n",
       "      <td>14.244186</td>\n",
       "      <td>42.441860</td>\n",
       "      <td>33.139535</td>\n",
       "    </tr>\n",
       "    <tr>\n",
       "      <th>5+ after SO</th>\n",
       "      <td>2.325581</td>\n",
       "      <td>2.325581</td>\n",
       "      <td>10.077519</td>\n",
       "      <td>10.852713</td>\n",
       "      <td>40.310078</td>\n",
       "      <td>34.108527</td>\n",
       "    </tr>\n",
       "  </tbody>\n",
       "</table>\n",
       "</div>"
      ],
      "text/plain": [
       "                   Multiple times per day  Daily or almost daily  \\\n",
       "YearsCodePro+SO                                                    \n",
       "12+ before SO                    1.869159               5.607477   \n",
       "1-12 before SO                   2.997275               2.724796   \n",
       "Work+SO same time                5.527638               2.512563   \n",
       "0 to 3 after SO                  2.749638               3.907381   \n",
       "3-5 after SO                     2.906977               2.616279   \n",
       "5+ after SO                      2.325581               2.325581   \n",
       "\n",
       "                   A few times per week  A few times per month or weekly  \\\n",
       "YearsCodePro+SO                                                            \n",
       "12+ before SO                  4.672897                        14.953271   \n",
       "1-12 before SO                 7.901907                        18.528610   \n",
       "Work+SO same time              5.025126                        14.070352   \n",
       "0 to 3 after SO                6.801737                        14.905933   \n",
       "3-5 after SO                   4.651163                        14.244186   \n",
       "5+ after SO                   10.077519                        10.852713   \n",
       "\n",
       "                   Less than once per month or monthly  \\\n",
       "YearsCodePro+SO                                          \n",
       "12+ before SO                                44.859813   \n",
       "1-12 before SO                               41.416894   \n",
       "Work+SO same time                            39.195980   \n",
       "0 to 3 after SO                              37.337192   \n",
       "3-5 after SO                                 42.441860   \n",
       "5+ after SO                                  40.310078   \n",
       "\n",
       "                   I have never participated in Q&A on Stack Overflow  \n",
       "YearsCodePro+SO                                                        \n",
       "12+ before SO                                              28.037383   \n",
       "1-12 before SO                                             26.430518   \n",
       "Work+SO same time                                          33.668342   \n",
       "0 to 3 after SO                                            34.298119   \n",
       "3-5 after SO                                               33.139535   \n",
       "5+ after SO                                                34.108527   "
      ]
     },
     "execution_count": 78,
     "metadata": {},
     "output_type": "execute_result"
    }
   ],
   "source": [
    "dummies_years = dummies_years.reindex(['Multiple times per day',\n",
    "                       'Daily or almost daily',\n",
    "                       'A few times per week',\n",
    "                       'A few times per month or weekly',\n",
    "                       'Less than once per month or monthly',\n",
    "                       'I have never participated in Q&A on Stack Overflow'], axis=1)\n",
    "dummies_years"
   ]
  },
  {
   "cell_type": "markdown",
   "metadata": {},
   "source": [
    "Another way to visualize these values:"
   ]
  },
  {
   "cell_type": "code",
   "execution_count": 79,
   "metadata": {},
   "outputs": [
    {
     "data": {
      "image/png": "[encoded data removed]",
      "text/plain": [
       "<Figure size 1080x576 with 2 Axes>"
      ]
     },
     "metadata": {
      "needs_background": "light"
     },
     "output_type": "display_data"
    }
   ],
   "source": [
    "fig, ax = plt.subplots(figsize=(15, 8))\n",
    "ax = sns.heatmap(dummies_years, annot=True, fmt=\".2f\")\n",
    "for t in ax.texts: \n",
    "    t.set_text(t.get_text() + \"%\")\n",
    "plt.autoscale()\n",
    "plt.savefig('img/YearsSOandPro.png', bbox_inches = \"tight\");"
   ]
  },
  {
   "cell_type": "markdown",
   "metadata": {},
   "source": [
    "Great! Let's get the max frequencies for each group of developers:"
   ]
  },
  {
   "cell_type": "code",
   "execution_count": 80,
   "metadata": {},
   "outputs": [
    {
     "data": {
      "text/html": [
       "<div>\n",
       "<style scoped>\n",
       "    .dataframe tbody tr th:only-of-type {\n",
       "        vertical-align: middle;\n",
       "    }\n",
       "\n",
       "    .dataframe tbody tr th {\n",
       "        vertical-align: top;\n",
       "    }\n",
       "\n",
       "    .dataframe thead th {\n",
       "        text-align: right;\n",
       "    }\n",
       "</style>\n",
       "<table border=\"1\" class=\"dataframe\">\n",
       "  <thead>\n",
       "    <tr style=\"text-align: right;\">\n",
       "      <th>YearsCodePro+SO</th>\n",
       "      <th>12+ before SO</th>\n",
       "      <th>1-12 before SO</th>\n",
       "      <th>Work+SO same time</th>\n",
       "      <th>0 to 3 after SO</th>\n",
       "      <th>3-5 after SO</th>\n",
       "      <th>5+ after SO</th>\n",
       "    </tr>\n",
       "  </thead>\n",
       "  <tbody>\n",
       "    <tr>\n",
       "      <th>Frequency of Participation</th>\n",
       "      <td>Less than once per month or monthly</td>\n",
       "      <td>Less than once per month or monthly</td>\n",
       "      <td>Less than once per month or monthly</td>\n",
       "      <td>Less than once per month or monthly</td>\n",
       "      <td>Less than once per month or monthly</td>\n",
       "      <td>Less than once per month or monthly</td>\n",
       "    </tr>\n",
       "    <tr>\n",
       "      <th>% of users</th>\n",
       "      <td>44.86</td>\n",
       "      <td>41.42</td>\n",
       "      <td>39.2</td>\n",
       "      <td>37.34</td>\n",
       "      <td>42.44</td>\n",
       "      <td>40.31</td>\n",
       "    </tr>\n",
       "  </tbody>\n",
       "</table>\n",
       "</div>"
      ],
      "text/plain": [
       "YearsCodePro+SO                                   12+ before SO  \\\n",
       "Frequency of Participation  Less than once per month or monthly   \n",
       "% of users                                                44.86   \n",
       "\n",
       "YearsCodePro+SO                                  1-12 before SO  \\\n",
       "Frequency of Participation  Less than once per month or monthly   \n",
       "% of users                                                41.42   \n",
       "\n",
       "YearsCodePro+SO                               Work+SO same time  \\\n",
       "Frequency of Participation  Less than once per month or monthly   \n",
       "% of users                                                 39.2   \n",
       "\n",
       "YearsCodePro+SO                                 0 to 3 after SO  \\\n",
       "Frequency of Participation  Less than once per month or monthly   \n",
       "% of users                                                37.34   \n",
       "\n",
       "YearsCodePro+SO                                    3-5 after SO  \\\n",
       "Frequency of Participation  Less than once per month or monthly   \n",
       "% of users                                                42.44   \n",
       "\n",
       "YearsCodePro+SO                                     5+ after SO  \n",
       "Frequency of Participation  Less than once per month or monthly  \n",
       "% of users                                                40.31  "
      ]
     },
     "execution_count": 80,
     "metadata": {},
     "output_type": "execute_result"
    }
   ],
   "source": [
    "years_SO_codePro = pd.DataFrame([dummies_years.T.idxmax(), round(dummies_years.T.max(), 2)], \n",
    "                               index=['Frequency of Participation', '% of users'])\n",
    "years_SO_codePro"
   ]
  },
  {
   "cell_type": "markdown",
   "metadata": {},
   "source": [
    "The probabilities highly suggest that actively working women developers, no matter how long they've been working as developers and have SO as a resource, visit the site less than once per month or monthly."
   ]
  },
  {
   "cell_type": "code",
   "execution_count": 81,
   "metadata": {},
   "outputs": [],
   "source": [
    "years_SO_vals = [stackoverflow.shape[0]]\n",
    "\n",
    "for col in years_SO_codePro.columns:\n",
    "    years_SO_vals.append(years_SO_codePro[col]['% of users'])\n",
    "    years_SO_vals.append(years_SO_dict[col])\n",
    "    years_SO_vals.append(years_SO_codePro[col]['Frequency of Participation'].lower())\n",
    "    \n",
    "notes.append('When asked about their participation in Stack Overflow, {} actively working \\\n",
    "women developers provided the following insights:\\n\\\n",
    " - {}% {}, said to visit SO {},\\n\\\n",
    " - {}% {}, said to visit SO {},\\n\\\n",
    " - {}% {}, said to visit SO {},\\n\\\n",
    " - {}% {}, said to visit SO {},\\n\\\n",
    " - {}% {}, said to visit SO {},\\n\\\n",
    " - {}% {}, said to visit SO {}.'.format(*years_SO_vals))"
   ]
  },
  {
   "cell_type": "markdown",
   "metadata": {},
   "source": [
    "## Notes"
   ]
  },
  {
   "cell_type": "markdown",
   "metadata": {},
   "source": [
    "Finally, let's print all my notes, save it in a file and proceed to use it to write an article or communicate the insights with my team, friends, family, or you!"
   ]
  },
  {
   "cell_type": "code",
   "execution_count": 82,
   "metadata": {},
   "outputs": [
    {
     "name": "stdout",
     "output_type": "stream",
     "text": [
      "The survey had 88883 participants.\n",
      "Approximately 91.2% of the participants were men, 7.4% were women, and 1.3% as non-binary, genderqueer, or gender non-conforming.\n",
      "The survey had 6344 of 88883 participants that identified themselves as women (7.1%), and 3477 (3.9%) that didn't provide information.\n",
      "From the 6344 women developers, 112 didn't provide information on this question, and approximately 73.8% were employed full-time, 8.3% were not employed, but looking for work, and 6.7% were employed part-time.\n",
      "5436 out of 6344 women developers (85.7% of them) were actively working at the moment of participating in the survey.\n",
      "From the 5436 women developers participating in the survey, 552 didn't provide information on this question. From the 4884 who did answered, approximately 78.0% answered \"I am a developer by profession\", 11.8% said \"I am not primarily a developer, but I write code sometimes as part of my work\", and 6.7% answered \"I am a student who is learning to code\".\n",
      "From the 4848 women developers, 84 didn't provide information on this question, approximately 54.4% had a Bachelor’s degree (BA, BS, B.Eng., etc.), 27.2% a Master’s degree (MA, MS, M.Eng., MBA, etc.), and 7.6% had Some college/university study without earning a degree.\n",
      "The 4848 actively working women developers that participated in the surveyand gave some kind of information (0 didn't provide information about their residence) about their education were predominantly from United States (34.8%),India (8.6%), United Kingdom (7.3%), Canada (4.8%), and Germany (4.7%).\n",
      "The 4344 actively working women developers that participated in the survey, gave information about their education and ethnicity were predominantly White or of European descents (67.2%), South Asian (8.3%), East Asian (7.1%), Hispanic or Latino/Latina (6.4%), and Black or of African descents (4.7%). 504 didn't provide information.\n",
      "When asked \"what social media site do you use the most?\" to 4848 women developers, 626 didn't provide one of/both their age and social media site of preference. From the 4243 who provided the information, \n",
      " - 1650 women, younger than 18 years old, said YouTube (38.89%),\n",
      " - 812 women, between 18 and 25 years old, said Instagram (19.15%), \n",
      " - 888 women, between 25 and 32 years old, said Instagram (20.93%), \n",
      " - 1045 women, between 32 and 39 years old, said Twitter (24.64%), \n",
      " - 1445 women, between 39 and 46 years old, said Twitter (34.07%), \n",
      " - 1324 women, between 46 and 53 years old, said Twitter (31.21%), \n",
      " - 1265 women, older than 53 years old, site of choice was Twitter (29.82%).\n",
      "When asked about their participation in Stack Overflow, 1837 actively working women developers provided the following insights:\n",
      " - 44.86% devs with 12 or more years of professional experience before their first visit, said to visit SO less than once per month or monthly,\n",
      " - 41.42% devs with 1 to almost 12 years of professional experience before their first visit, said to visit SO less than once per month or monthly,\n",
      " - 39.2% devs who visited SO for the first time around the same time they started to work as developers, said to visit SO less than once per month or monthly,\n",
      " - 37.34% devs who visited SO for the first time around the time they started to work as developers and as far as 3 years before that moment, said to visit SO less than once per month or monthly,\n",
      " - 42.44% devs who visited SO for the first time around 3 years before they started to work as developers and as far as 5 years before that moment, said to visit SO less than once per month or monthly,\n",
      " - 40.31% devs who visited SO for the first time more than 5 years before they started to work a developers, said to visit SO less than once per month or monthly.\n"
     ]
    }
   ],
   "source": [
    "print(*notes, sep='\\n')"
   ]
  },
  {
   "cell_type": "code",
   "execution_count": 83,
   "metadata": {},
   "outputs": [],
   "source": [
    "with open('women_SO_notes.txt', 'w') as file:\n",
    "    for line in notes:\n",
    "        file.write(\"%s \\n\" % line)"
   ]
  }
 ],
 "metadata": {
  "kernelspec": {
   "display_name": "Python 3",
   "language": "python",
   "name": "python3"
  },
  "language_info": {
   "codemirror_mode": {
    "name": "ipython",
    "version": 3
   },
   "file_extension": ".py",
   "mimetype": "text/x-python",
   "name": "python",
   "nbconvert_exporter": "python",
   "pygments_lexer": "ipython3",
   "version": "3.7.6"
  }
 },
 "nbformat": 4,
 "nbformat_minor": 4
}

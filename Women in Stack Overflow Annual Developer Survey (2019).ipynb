{
 "cells": [
  {
   "cell_type": "markdown",
   "metadata": {},
   "source": [
    "# Women in Stack Overflow"
   ]
  },
  {
   "cell_type": "markdown",
   "metadata": {},
   "source": [
    "Stack Overflow (SO) is a well-known website for all things related to code. Whether you're a newbie or a seasoned developer, chances are you've spent some quality time scrambling around people's Q&As for insight on how to unstuck you on your code.\n",
    "\n",
    "In [their words](https://stackoverflow.com/company):\n",
    ">Founded in 2008, Stack Overflow is the largest, most trusted online community for anyone that codes to learn, share their knowledge, and build their careers. **More than 50 million unique visitors** come to Stack Overflow **each month** to help solve coding problems, develop new skills, and find job opportunities.\n",
    "\n",
    "Another great thing about SO is the [Stack Overflow Annual Developer Survey](https://insights.stackoverflow.com/survey). Every year since 2011, they open the survey to anyone willing to commit their time to it.\n",
    "In addition to SO's insights, this data collected makes it possible for anyone else to get ideas about the community, its members and people that contribute to the website.\n",
    "\n",
    "After a little while of constantly visiting SO as I was learning new languages, features, ways to visualize data, I started wondering about women involved with tech. The data collected by the Annual Developer Survey from 2019 is a good start to get some insights.  \n",
    "The next notebook comprises some analysis about\n",
    " - [Gender](#Gender)  \n",
    " - [Employment](#Employment)  \n",
    " - [Work as Developers](#Work-as-Developers)  \n",
    " - [Formal Education](#Formal-Education)  \n",
    " - [Country](#Country)  \n",
    " - [Ethnicity](#Ethnicity)  \n",
    " - [Age vs. Social Media](#Age-vs.-Social-Media)\n",
    " - [Women vs. Stack Overflow](#Women-vs.-Stack-Overflow)\n",
    " \n",
    "The survey and questions asked are available in this [pdf](data/so_survey_2019.pdf)."
   ]
  },
  {
   "cell_type": "markdown",
   "metadata": {},
   "source": [
    "### Import libraries and helper functions"
   ]
  },
  {
   "cell_type": "code",
   "execution_count": null,
   "metadata": {},
   "outputs": [],
   "source": [
    "import matplotlib\n",
    "import matplotlib.pyplot as plt\n",
    "import numpy as np\n",
    "import pandas as pd\n",
    "import re\n",
    "import seaborn as sns\n",
    "from helpers import search_question, get_probs, plot_stats\n",
    "%matplotlib inline"
   ]
  },
  {
   "cell_type": "code",
   "execution_count": null,
   "metadata": {},
   "outputs": [],
   "source": [
    "print(\"matplotlib version:\", matplotlib.__version__)\n",
    "print(\"numpy version:\", np.__version__)\n",
    "print(\"pandas version:\", pd.__version__)\n",
    "print(\"re version:\", re.__version__)\n",
    "print(\"seaborn version:\", sns.__version__)"
   ]
  },
  {
   "cell_type": "markdown",
   "metadata": {},
   "source": [
    "### Import and show the data\n",
    "\n",
    "Read the data and schema of the survey, store them in variables and show the first five rows."
   ]
  },
  {
   "cell_type": "code",
   "execution_count": null,
   "metadata": {},
   "outputs": [],
   "source": [
    "df = pd.read_csv('./data/survey_results_public.csv')\n",
    "schema = pd.read_csv('./data/survey_results_schema.csv')\n",
    "df.head()"
   ]
  },
  {
   "cell_type": "markdown",
   "metadata": {},
   "source": [
    "Every row represents a participant's answers.\n",
    "Every column represents a question asked."
   ]
  },
  {
   "cell_type": "code",
   "execution_count": null,
   "metadata": {},
   "outputs": [],
   "source": [
    "participants, questions = df.shape\n",
    "notes = []\n",
    "notes.append('The survey had {} participants.'.format(participants))"
   ]
  },
  {
   "cell_type": "markdown",
   "metadata": {},
   "source": [
    "As I was analyzing the data, I found it useful to store my notes in a variable to retrieve it at the end.\n",
    "With this I'd avoid to make a mess of the notebook, and also having to come back to every note alongside it.\n",
    "\n",
    "My notes had the next structure:\n",
    "```python\n",
    "notes = []\n",
    "notes.append('string to format'.format(\n",
    "    value_1,\n",
    "    value_2,\n",
    "    value_3,\n",
    "))\n",
    "```   \n",
    "\n",
    "*String to format* was the context where to place the data.  \n",
    "*Values_\\** came from the analysis of the data.  \n",
    "The result was the note: instead of hardcorded results, I'd added context and let the data speak for itself."
   ]
  },
  {
   "cell_type": "markdown",
   "metadata": {},
   "source": [
    "## Gender"
   ]
  },
  {
   "cell_type": "markdown",
   "metadata": {},
   "source": [
    "I wrote the function **search_question** that will search the schema for a given term and retrieve all the questions that match it.\n",
    "This facilitates the task of retrieving columns to analyze them."
   ]
  },
  {
   "cell_type": "code",
   "execution_count": null,
   "metadata": {},
   "outputs": [],
   "source": [
    "print(search_question.__doc__)"
   ]
  },
  {
   "cell_type": "code",
   "execution_count": null,
   "metadata": {},
   "outputs": [],
   "source": [
    "search_question(schema, \"identify\")"
   ]
  },
  {
   "cell_type": "markdown",
   "metadata": {},
   "source": [
    "What are the unique values for the question about *Gender* ?"
   ]
  },
  {
   "cell_type": "code",
   "execution_count": null,
   "metadata": {},
   "outputs": [],
   "source": [
    "df['Gender'].unique()"
   ]
  },
  {
   "cell_type": "markdown",
   "metadata": {},
   "source": [
    "Taking a look to the values, we can easily identify:  \n",
    " - Man\n",
    " - Woman\n",
    " - Non-binary, genderqueer, or gender non-conforming\n",
    " \n",
    "Those values repeated alone and in combinations, and the survey format makes it obvious that the first value in combinations was the first marked by the respondant.  \n",
    "I imputed and transformed the values as follows:\n",
    " - transform *Woman;Man* values to *Non-binary*\n",
    " - keep the first value in combinations\n",
    " - transform *Non-binary, genderqueer, or gender non-conforming* to *Non-binary*"
   ]
  },
  {
   "cell_type": "code",
   "execution_count": null,
   "metadata": {},
   "outputs": [],
   "source": [
    "gender_dict = {\n",
    "    'replace': ['Woman;Man', '.+;', 'Non-binary, genderqueer, or gender non-conforming'],\n",
    "    'value': ['Non-binary', '', 'Non-binary']\n",
    "}\n",
    "\n",
    "df['Gender'].replace(to_replace=gender_dict['replace'], value=gender_dict['value'], regex=True, inplace=True)"
   ]
  },
  {
   "cell_type": "markdown",
   "metadata": {},
   "source": [
    "I wrote the helper function **get_probs** that will compute the percentages of values in a pandas Series.  \n",
    "Then again, avoided the clutter in the notebook."
   ]
  },
  {
   "cell_type": "code",
   "execution_count": null,
   "metadata": {},
   "outputs": [],
   "source": [
    "print(get_probs.__doc__)"
   ]
  },
  {
   "cell_type": "code",
   "execution_count": null,
   "metadata": {
    "scrolled": true
   },
   "outputs": [],
   "source": [
    "stats_gender = get_probs(df['Gender'])\n",
    "stats_gender"
   ]
  },
  {
   "cell_type": "markdown",
   "metadata": {},
   "source": [
    "The **plot_stats** helper function takes in a pandas Series and plots it."
   ]
  },
  {
   "cell_type": "code",
   "execution_count": null,
   "metadata": {},
   "outputs": [],
   "source": [
    "print(plot_stats.__doc__)"
   ]
  },
  {
   "cell_type": "code",
   "execution_count": null,
   "metadata": {},
   "outputs": [],
   "source": [
    "plot_stats(stats_gender.index, stats_gender.values, title='Gender distribution of developers\\nwho participated in the survey', \n",
    "           xlabel_='Gender', ylabel_='% of developers', filename='img/Gender.png')"
   ]
  },
  {
   "cell_type": "code",
   "execution_count": null,
   "metadata": {},
   "outputs": [],
   "source": [
    "notes.append('Approximately {}% of the participants were men, {}% were women, and {}% as non-binary, genderqueer, or gender non-conforming.'.format(\n",
    "    round(stats_gender.Man, 1),\n",
    "    round(stats_gender.Woman, 1),\n",
    "    round(stats_gender['Non-binary'], 1),\n",
    "))"
   ]
  },
  {
   "cell_type": "markdown",
   "metadata": {},
   "source": [
    "The desirable subject of this analysis are participants of the survey whose gender identity (or one of them) was woman.  \n",
    "I reflected this as a subset of only woman participants from the imputed data and stored it in a variable ***df_woman***."
   ]
  },
  {
   "cell_type": "code",
   "execution_count": null,
   "metadata": {},
   "outputs": [],
   "source": [
    "df['Gender'].isnull().sum()"
   ]
  },
  {
   "cell_type": "code",
   "execution_count": null,
   "metadata": {},
   "outputs": [],
   "source": [
    "gender_woman = ['Woman']\n",
    "df_woman = df[df['Gender'].isin(gender_woman)]"
   ]
  },
  {
   "cell_type": "code",
   "execution_count": null,
   "metadata": {},
   "outputs": [],
   "source": [
    "notes.append('The survey had {} of {} participants \\\n",
    "that identified themselves as women ({}%), and {} ({}%) that didn\\'t provide information.'.format(df_woman.shape[0], \n",
    "                                                   df.shape[0], \n",
    "                                                   round(df_woman.shape[0] / df.shape[0] * 100, 1),\n",
    "                                                   df['Gender'].isnull().sum(), \n",
    "                                                   round(df['Gender'].isnull().sum() / df.shape[0] * 100, 1)))"
   ]
  },
  {
   "cell_type": "code",
   "execution_count": null,
   "metadata": {},
   "outputs": [],
   "source": [
    "df_woman.to_csv('data/woman_survey.csv', sep=',')"
   ]
  },
  {
   "cell_type": "markdown",
   "metadata": {},
   "source": [
    "## Employment"
   ]
  },
  {
   "cell_type": "markdown",
   "metadata": {},
   "source": [
    "What questions were asked about employment?  \n",
    "What kind of employment was predominant among the women participants?"
   ]
  },
  {
   "cell_type": "code",
   "execution_count": null,
   "metadata": {
    "scrolled": true
   },
   "outputs": [],
   "source": [
    "search_question(schema, \"employment\")"
   ]
  },
  {
   "cell_type": "code",
   "execution_count": null,
   "metadata": {
    "scrolled": false
   },
   "outputs": [],
   "source": [
    "df_woman['Employment'].unique()"
   ]
  },
  {
   "cell_type": "code",
   "execution_count": null,
   "metadata": {},
   "outputs": [],
   "source": [
    "stats_work = get_probs(df_woman['Employment'])\n",
    "stats_work"
   ]
  },
  {
   "cell_type": "code",
   "execution_count": null,
   "metadata": {
    "scrolled": false
   },
   "outputs": [],
   "source": [
    "plot_stats(stats_work.index, stats_work.values, title='Employment Status', \n",
    "           xlabel_='Employment', ylabel_='Percentage', filename='img/Employment.png', \n",
    "           xticks_labels=['Full-time', 'Unemployed\\nlooking for job', 'Part-time', 'Contractor', 'Unemployed\\nnot looking for job', 'Retired'])"
   ]
  },
  {
   "cell_type": "code",
   "execution_count": null,
   "metadata": {},
   "outputs": [],
   "source": [
    "df_woman['Employment'].isnull().sum()"
   ]
  },
  {
   "cell_type": "code",
   "execution_count": null,
   "metadata": {},
   "outputs": [],
   "source": [
    "work_vals = [df_woman.shape[0], df_woman['Employment'].isnull().sum()]\n",
    "\n",
    "for i in range(3):\n",
    "    work_vals.append(round(stats_work[i], 1))\n",
    "    work_vals.append(stats_work.index[i].lower())\n",
    "\n",
    "notes.append('From the {} women developers, {} didn\\'t \\\n",
    "provide information on this question, and \\\n",
    "approximately {}% were {}, {}% were {}, and {}% were {}.'.format(*work_vals))"
   ]
  },
  {
   "cell_type": "markdown",
   "metadata": {},
   "source": [
    "I filtered the ***df_woman*** data to take some notes about women employed at the time of the survey. For this purpose, I stored it in ***df_woman_working*** variable.  \n",
    "\n",
    "Then I stored it back in ***df_woman*** to use it in the rest of the notebook."
   ]
  },
  {
   "cell_type": "code",
   "execution_count": null,
   "metadata": {},
   "outputs": [],
   "source": [
    "working_targets = ['Employed full-time',\n",
    "                   'Independent contractor, freelancer, or self-employed',\n",
    "                   'Employed part-time']\n",
    "\n",
    "df_woman_working = df_woman[df_woman['Employment'].isin(working_targets)]"
   ]
  },
  {
   "cell_type": "code",
   "execution_count": null,
   "metadata": {},
   "outputs": [],
   "source": [
    "women_work_ = '{} out of {} women developers ({}% of them) were actively working at the moment of participating in the survey.'\n",
    "notes.append(women_work_.format(df_woman_working.shape[0], \n",
    "                   df_woman.shape[0], \n",
    "                   round(df_woman_working.shape[0] / df_woman.shape[0] * 100, 1)))"
   ]
  },
  {
   "cell_type": "code",
   "execution_count": null,
   "metadata": {},
   "outputs": [],
   "source": [
    "df_woman = df_woman_working"
   ]
  },
  {
   "cell_type": "markdown",
   "metadata": {},
   "source": [
    "## Work as Developers"
   ]
  },
  {
   "cell_type": "markdown",
   "metadata": {},
   "source": [
    "I also wanted to know if the women participants were developers.  \n",
    "The first step to find out was to get all questions related to code:"
   ]
  },
  {
   "cell_type": "code",
   "execution_count": null,
   "metadata": {},
   "outputs": [],
   "source": [
    "search_question(schema, 'code')"
   ]
  },
  {
   "cell_type": "markdown",
   "metadata": {},
   "source": [
    "*MainBranch* looks promising. According to the survey, you could only provide one answer for this, so no need to impute or transform the answers.  \n",
    "Let's see the unique values for this question:"
   ]
  },
  {
   "cell_type": "code",
   "execution_count": null,
   "metadata": {
    "scrolled": true
   },
   "outputs": [],
   "source": [
    "df_woman['MainBranch'].unique()"
   ]
  },
  {
   "cell_type": "code",
   "execution_count": null,
   "metadata": {},
   "outputs": [],
   "source": [
    "stats_dev = get_probs(df_woman['MainBranch'])\n",
    "stats_dev"
   ]
  },
  {
   "cell_type": "code",
   "execution_count": null,
   "metadata": {
    "scrolled": true
   },
   "outputs": [],
   "source": [
    "plot_stats(stats_dev.index, stats_dev.values, title='Distribution of developer statuses for women developers', \n",
    "           xlabel_='Developer status', ylabel_='Percentage of women developers', filename='img/Devs.png', \n",
    "           xticks_labels=['Profession', 'Student', 'As part of work', 'Hobby', 'Not anymore'])"
   ]
  },
  {
   "cell_type": "code",
   "execution_count": null,
   "metadata": {},
   "outputs": [],
   "source": [
    "df_woman['MainBranch'].isnull().sum()"
   ]
  },
  {
   "cell_type": "code",
   "execution_count": null,
   "metadata": {},
   "outputs": [],
   "source": [
    "branch_vals = [df_woman.shape[0],\n",
    "               df['MainBranch'].isnull().sum(),\n",
    "               (df_woman.shape[0] - df['MainBranch'].isnull().sum())]\n",
    "\n",
    "for i in range(3):\n",
    "    branch_vals.append(round(stats_dev[i], 1))\n",
    "    branch_vals.append(stats_dev.index[i])\n",
    "\n",
    "main_branch_ = 'From the {} women developers participating in the survey, {} didn\\'t provide information on this question. From the {} who did answered, approximately {}% answered \"{}\", {}% said \"{}\", and {}% answered \"{}\".'\n",
    "notes.append(main_branch_.format(*branch_vals))"
   ]
  },
  {
   "cell_type": "markdown",
   "metadata": {},
   "source": [
    "In the previous section, I filtered all the data from women to keep only those employed at the time of the survey.   \n",
    "Now, I filter those who work as developers."
   ]
  },
  {
   "cell_type": "code",
   "execution_count": null,
   "metadata": {},
   "outputs": [],
   "source": [
    "branch_targets = ['I am a developer by profession', \n",
    "                  'I am not primarily a developer, but I write code sometimes as part of my work']\n",
    "\n",
    "df_woman = df_woman[df_woman['MainBranch'].isin(branch_targets)]"
   ]
  },
  {
   "cell_type": "markdown",
   "metadata": {},
   "source": [
    "## Formal Education"
   ]
  },
  {
   "cell_type": "markdown",
   "metadata": {},
   "source": [
    "I aim to get only information about formal education, and unique values for this question.  \n",
    "Same as previous sections, I use the helper functions to:\n",
    " - get questions related to the education level and unique values,\n",
    " - get percentages for this data,\n",
    " - plot the percentages,\n",
    " - take a note about this information"
   ]
  },
  {
   "cell_type": "code",
   "execution_count": null,
   "metadata": {},
   "outputs": [],
   "source": [
    "search_question(schema, \"education\")"
   ]
  },
  {
   "cell_type": "code",
   "execution_count": null,
   "metadata": {},
   "outputs": [],
   "source": [
    "df_woman['EdLevel'].unique()"
   ]
  },
  {
   "cell_type": "code",
   "execution_count": null,
   "metadata": {},
   "outputs": [],
   "source": [
    "stats_ed = get_probs(df_woman['EdLevel'])\n",
    "stats_ed"
   ]
  },
  {
   "cell_type": "code",
   "execution_count": null,
   "metadata": {
    "scrolled": true
   },
   "outputs": [],
   "source": [
    "plot_stats(stats_ed.index, stats_ed.values, title='Distribution of education levels for women developers', \n",
    "           xlabel_='Higher education achieved', ylabel_='Percentage of women developers', filename='img/EdLevel.png', \n",
    "           xticks_labels=['Bachelor', 'Master', 'Some college', 'Other doctoral', 'Associate', \n",
    "                          'Secondary school', 'Professional degree', 'No formal ed.', 'Primary school'])"
   ]
  },
  {
   "cell_type": "code",
   "execution_count": null,
   "metadata": {},
   "outputs": [],
   "source": [
    "df_woman['EdLevel'].isnull().sum()"
   ]
  },
  {
   "cell_type": "code",
   "execution_count": null,
   "metadata": {},
   "outputs": [],
   "source": [
    "ed_vals = [df_woman.shape[0], df_woman['EdLevel'].isnull().sum()]\n",
    "\n",
    "for i in range(3):\n",
    "    ed_vals.append(round(stats_ed[i], 1))\n",
    "    ed_vals.append(stats_ed.index[i])\n",
    "\n",
    "notes.append('From the {} women developers, {} didn\\'t provide information on this question, \\\n",
    "approximately {}% had a {}, {}% a {}, and {}% had {}.'.format(*ed_vals))"
   ]
  },
  {
   "cell_type": "markdown",
   "metadata": {},
   "source": [
    "## Country"
   ]
  },
  {
   "cell_type": "code",
   "execution_count": null,
   "metadata": {
    "scrolled": true
   },
   "outputs": [],
   "source": [
    "search_question(schema, \"country\")"
   ]
  },
  {
   "cell_type": "code",
   "execution_count": null,
   "metadata": {},
   "outputs": [],
   "source": [
    "df_woman['Country'].unique()[:10]"
   ]
  },
  {
   "cell_type": "code",
   "execution_count": null,
   "metadata": {},
   "outputs": [],
   "source": [
    "stats_country = get_probs(df_woman['Country'])\n",
    "stats_country"
   ]
  },
  {
   "cell_type": "code",
   "execution_count": null,
   "metadata": {
    "scrolled": true
   },
   "outputs": [],
   "source": [
    "plot_stats(stats_country.index[:10], stats_country.values[:10], title='Distribution of Top 10 countries\\n where women developers currently reside', \n",
    "           xlabel_='Countries', ylabel_='Percentage of women developers', filename='img/Country.png')"
   ]
  },
  {
   "cell_type": "code",
   "execution_count": null,
   "metadata": {},
   "outputs": [],
   "source": [
    "df_woman['Country'].isnull().sum()"
   ]
  },
  {
   "cell_type": "code",
   "execution_count": null,
   "metadata": {},
   "outputs": [],
   "source": [
    "country_vals = [df_woman.shape[0], \n",
    "                df_woman['Country'].isnull().sum()]\n",
    "\n",
    "for i in range(5):\n",
    "    country_vals.append(stats_country.index[i])\n",
    "    country_vals.append(round(stats_country[i], 1))\n",
    "    \n",
    "about_countries = 'The {} actively working women developers that participated in the survey\\\n",
    "and gave some kind of information ({} didn\\'t provide information about \\\n",
    "their residence) about their education were predominantly from {} ({}%),\\\n",
    "{} ({}%), {} ({}%), {} ({}%), and {} ({}%).'\n",
    "notes.append(about_countries.format(*country_vals))"
   ]
  },
  {
   "cell_type": "markdown",
   "metadata": {},
   "source": [
    "## Ethnicity"
   ]
  },
  {
   "cell_type": "code",
   "execution_count": null,
   "metadata": {
    "scrolled": true
   },
   "outputs": [],
   "source": [
    "search_question(schema, \"identify\")"
   ]
  },
  {
   "cell_type": "markdown",
   "metadata": {},
   "source": [
    "For this question, was possible to mark more than one answer, even though there were options like *Biracial* and *Multiracial*.  \n",
    "We can see in the next cell some of the unique answers:"
   ]
  },
  {
   "cell_type": "code",
   "execution_count": null,
   "metadata": {
    "scrolled": true
   },
   "outputs": [],
   "source": [
    "df_woman['Ethnicity'].unique()[:10]"
   ]
  },
  {
   "cell_type": "code",
   "execution_count": null,
   "metadata": {},
   "outputs": [],
   "source": [
    "df_woman['Ethnicity'].isnull().sum()"
   ]
  },
  {
   "cell_type": "code",
   "execution_count": null,
   "metadata": {},
   "outputs": [],
   "source": [
    "len(df_woman['Ethnicity'].unique())"
   ]
  },
  {
   "cell_type": "markdown",
   "metadata": {},
   "source": [
    "There were 67 unique combinations for the question about *Ethnicity*.  \n",
    "My approach was to simplify the information for the solely purpose of getting a better idea about ethnicities.  \n",
    "I imputed the answers and keep only the first answer of each respondant.  \n",
    "Then I got the percentages of distinct ethnicities for women developers employed at the time of the survey."
   ]
  },
  {
   "cell_type": "code",
   "execution_count": null,
   "metadata": {},
   "outputs": [],
   "source": [
    "ethnics = df_woman[['Ethnicity', 'Country']].copy().dropna()\n",
    "ethnics['Ethnicity'].replace(to_replace=';.+', value='', regex=True, inplace=True)"
   ]
  },
  {
   "cell_type": "code",
   "execution_count": null,
   "metadata": {},
   "outputs": [],
   "source": [
    "stats_ethnic = get_probs(ethnics['Ethnicity'])\n",
    "stats_ethnic"
   ]
  },
  {
   "cell_type": "code",
   "execution_count": null,
   "metadata": {
    "scrolled": true
   },
   "outputs": [],
   "source": [
    "plot_stats(stats_ethnic.index, stats_ethnic.values, \n",
    "           title='Distribution of ethnicities\\nfor women developers\\nemployed at the time of the survey',\n",
    "           ylabel_='% of women developers\\nemployed at the time of the survey', \n",
    "           xlabel_='Ethnicities', \n",
    "           xticks_labels=['White', 'South Asian', 'East Asian', 'Latinx', 'Black', 'Multiracial', 'Biracial',\n",
    "                          'Middle Eastern', \n",
    "                          'Native or Indigenous'],\n",
    "           filename='img/Distribution_Ethnics.png')"
   ]
  },
  {
   "cell_type": "markdown",
   "metadata": {},
   "source": [
    "The plot give us an idea of the ethnicities of the participants.  \n",
    "But ethnicity makes sense in a context of where the participant is located.  \n",
    "To compel with this idea, I:\n",
    " - took the countries where the women developer where currently located, \n",
    " - created a dummy variable out of the *Ethnicity* column,\n",
    " - filtered the first 10 countries where the participants where located,\n",
    " - grouped by *Country*,\n",
    " - computed the percentages for Country-Ethnicity values  \n",
    " \n",
    "After all this, I plotted the matrix as a heatmap and provided the percentages to assist the comparison between ethnicities in these countries."
   ]
  },
  {
   "cell_type": "code",
   "execution_count": null,
   "metadata": {
    "scrolled": true
   },
   "outputs": [],
   "source": [
    "ethnics_top_countries = pd.concat([ethnics['Country'], pd.get_dummies(ethnics['Ethnicity'], drop_first=True)], axis=1)\n",
    "ethnics_top_countries = ethnics_top_countries[ethnics.Country.isin(stats_country.index[:10])].groupby('Country').mean() * 100\n",
    "ethnics_top_countries"
   ]
  },
  {
   "cell_type": "code",
   "execution_count": null,
   "metadata": {
    "scrolled": true
   },
   "outputs": [],
   "source": [
    "fig, ax = plt.subplots(figsize=(10, 10))\n",
    "ax = sns.heatmap(ethnics_top_countries, annot=True, fmt=\".2f\")\n",
    "for t in ax.texts: \n",
    "    t.set_text(t.get_text() + \"%\")\n",
    "plt.autoscale()\n",
    "plt.savefig('img/Ethnicity.png', bbox_inches = \"tight\");"
   ]
  },
  {
   "cell_type": "markdown",
   "metadata": {},
   "source": [
    "As we can see in the heatmap, each country was paired with the % of women developers currently located there and their ethnicity.  \n",
    "I kept each *Ethnicity* label as it was."
   ]
  },
  {
   "cell_type": "code",
   "execution_count": null,
   "metadata": {},
   "outputs": [],
   "source": [
    "ethnic_vals = [df_woman.shape[0] - df_woman['Ethnicity'].isnull().sum()]\n",
    "\n",
    "for i in range(5):\n",
    "    ethnic_vals.append(stats_ethnic.index[i])\n",
    "    ethnic_vals.append(round(stats_ethnic[i], 1))\n",
    "\n",
    "ethnic_vals.append(df_woman['Ethnicity'].isnull().sum())\n",
    "    \n",
    "about_ethnics = 'The {} actively working women developers that participated in the survey, \\\n",
    "gave information about their education and ethnicity were predominantly {}s ({}%), \\\n",
    "{} ({}%), {} ({}%), {} ({}%), and {}s ({}%). {} didn\\'t provide information.'\n",
    "notes.append(about_ethnics.format(*ethnic_vals))"
   ]
  },
  {
   "cell_type": "markdown",
   "metadata": {},
   "source": [
    "## Age vs. Social Media"
   ]
  },
  {
   "cell_type": "markdown",
   "metadata": {},
   "source": [
    "Out of my curiosity I wondered where could I find women developers to connect with them. I've found many on Twitter (say [hi](https://twitter.com/miss_sizigia)!).  \n",
    "But, what are other choices and would this have something to do with their age?"
   ]
  },
  {
   "cell_type": "code",
   "execution_count": null,
   "metadata": {
    "scrolled": true
   },
   "outputs": [],
   "source": [
    "search_question(schema, \"social\")"
   ]
  },
  {
   "cell_type": "code",
   "execution_count": null,
   "metadata": {},
   "outputs": [],
   "source": [
    "df_woman[['Age', 'SocialMedia']].isnull().sum().sum()"
   ]
  },
  {
   "cell_type": "markdown",
   "metadata": {},
   "source": [
    "I filtered women by *Age* and *SocialMedia*, dropped NaN values, and got the unique values for *SocialMedia*."
   ]
  },
  {
   "cell_type": "code",
   "execution_count": null,
   "metadata": {},
   "outputs": [],
   "source": [
    "woman_age_socialmedia = df_woman[['Age', 'SocialMedia']].dropna()\n",
    "\n",
    "woman_age_socialmedia['SocialMedia'].unique()"
   ]
  },
  {
   "cell_type": "markdown",
   "metadata": {},
   "source": [
    "As we can see, *VK ВКонта́кте*, *WeChat 微信* and *Weibo 新浪微博* have characters from other alphabets, so I cleaned the names for readability."
   ]
  },
  {
   "cell_type": "code",
   "execution_count": null,
   "metadata": {},
   "outputs": [],
   "source": [
    "socialmedia_dict = {\n",
    "    'replace': [\"I don't use social media\", '(?![a-zA-Z]).+'], \n",
    "    'value': ['None', '']\n",
    "}\n",
    "\n",
    "woman_age_socialmedia['SocialMedia'].replace(to_replace=socialmedia_dict['replace'], \n",
    "                                             value=socialmedia_dict['value'], \n",
    "                                             regex=True, inplace=True)"
   ]
  },
  {
   "cell_type": "markdown",
   "metadata": {},
   "source": [
    "Next, I:\n",
    " - created a dummy variable out of *SocialMedia*,\n",
    " - cut the DataFrame to have ranges of age instead of individual ages of each participants and stored it as *AgeRange*,\n",
    " - dropped the *Age* column,\n",
    " - grouped by *AgeRange*, \n",
    " - computed the mean percentages, and\n",
    " - stored it all in a **age_social_media**:"
   ]
  },
  {
   "cell_type": "code",
   "execution_count": null,
   "metadata": {},
   "outputs": [],
   "source": [
    "woman_age_socialmedia = pd.concat([woman_age_socialmedia['Age'], pd.get_dummies(woman_age_socialmedia['SocialMedia'], drop_first=True)], axis=1)\n",
    "\n",
    "bins = [0, 18, 25, 32, 39, 46, 53, np.inf]\n",
    "names = ['<18', '18-25', '25-32', '32-39', '39-46', '46-53', '53+']\n",
    "\n",
    "woman_age_socialmedia['AgeRange'] = pd.cut(woman_age_socialmedia.Age, bins, labels=names)\n",
    "\n",
    "woman_age_socialmedia.drop(columns='Age', inplace=True)\n",
    "\n",
    "age_social_media = woman_age_socialmedia.groupby('AgeRange').mean() * 100"
   ]
  },
  {
   "cell_type": "markdown",
   "metadata": {},
   "source": [
    "Next, I create a dictionary to map the categorical ranges with strings to give them meaning later on when I take a note about this analysis."
   ]
  },
  {
   "cell_type": "code",
   "execution_count": null,
   "metadata": {},
   "outputs": [],
   "source": [
    "age_social_dict = {}\n",
    "strs = ['younger than 18', \n",
    "'between 18 and 25',\n",
    "'between 25 and 32',\n",
    "'between 32 and 39',\n",
    "'between 39 and 46',\n",
    "'between 46 and 53',\n",
    "'older than 53']\n",
    "\n",
    "for idx, name in enumerate(names):\n",
    "    age_social_dict[name] = strs[idx]\n",
    "\n",
    "age_social_dict"
   ]
  },
  {
   "cell_type": "markdown",
   "metadata": {},
   "source": [
    "The following DataFrame shows the percentages of women developers employed at the time of the survey grouped by age ranges of:\n",
    " - younger than 18 (<18),\n",
    " - between 18 and 25 (18-25],\n",
    " - between 25 and 32 (25-32],\n",
    " - between 32 and 39 (32-39],\n",
    " - between 39 and 46 (39-46],\n",
    " - between 46 and 53 (46-53],\n",
    " - older than 53 (53+)"
   ]
  },
  {
   "cell_type": "code",
   "execution_count": null,
   "metadata": {
    "scrolled": true
   },
   "outputs": [],
   "source": [
    "age_social_media"
   ]
  },
  {
   "cell_type": "markdown",
   "metadata": {},
   "source": [
    "Even though it is informative on its own, it doesn't say much since I have to search back and forth to get the maximum values.  \n",
    "I can quickly solve this by creating a new DataFrame with the maximum values per index and the associated percentage.  \n",
    "I transposed both columns to have all values of *AgeRange* as columns and both *Most Used Site* and *% of users* as indexes."
   ]
  },
  {
   "cell_type": "code",
   "execution_count": null,
   "metadata": {
    "scrolled": false
   },
   "outputs": [],
   "source": [
    "most_used_media = pd.DataFrame([age_social_media.T.idxmax(), round(age_social_media.T.max(), 2)], \n",
    "                               index=['Most Used Site', '% of users'])\n",
    "most_used_media"
   ]
  },
  {
   "cell_type": "markdown",
   "metadata": {},
   "source": [
    "I extract another note from this data wrangling using the dictionary I previously created and another list to store significant data."
   ]
  },
  {
   "cell_type": "code",
   "execution_count": null,
   "metadata": {},
   "outputs": [],
   "source": [
    "age_social_vals = [search_question(schema, \"social\")[0]['question'].lower(), \n",
    "                   df_woman.shape[0], \n",
    "                   df_woman[['Age', 'SocialMedia']].isnull().sum().sum(),\n",
    "                   woman_age_socialmedia.shape[0]]\n",
    "\n",
    "for col in most_used_media.columns:\n",
    "    age_social_vals.append(int(woman_age_socialmedia.shape[0] * most_used_media[col]['% of users'] / 100))\n",
    "    age_social_vals.append(age_social_dict[col])\n",
    "    age_social_vals.append(most_used_media[col]['Most Used Site'])\n",
    "    age_social_vals.append(most_used_media[col]['% of users'])\n",
    "\n",
    "notes.append('When asked \"{}\" to {} women developers, {} didn\\'t provide one of/both their age and \\\n",
    "social media site of preference. From the {} who provided the information, \\\n",
    "\\n - {} women, {} years old, said {} ({}%),\\\n",
    "\\n - {} women, {} years old, said {} ({}%), \\\n",
    "\\n - {} women, {} years old, said {} ({}%), \\\n",
    "\\n - {} women, {} years old, said {} ({}%), \\\n",
    "\\n - {} women, {} years old, said {} ({}%), \\\n",
    "\\n - {} women, {} years old, said {} ({}%), \\\n",
    "\\n - {} women, {} years old, site of choice was {} ({}%).'.format(*age_social_vals))"
   ]
  },
  {
   "cell_type": "markdown",
   "metadata": {},
   "source": [
    "Next, I found useful to visualize the matrix of values with a heatmap as done with *Ethnicity*."
   ]
  },
  {
   "cell_type": "code",
   "execution_count": null,
   "metadata": {
    "scrolled": true
   },
   "outputs": [],
   "source": [
    "fig, ax = plt.subplots(figsize=(15, 8))\n",
    "ax = sns.heatmap(age_social_media, annot=True, fmt=\".2f\")\n",
    "for t in ax.texts: \n",
    "    t.set_text(t.get_text() + \"%\")\n",
    "plt.autoscale()\n",
    "plt.savefig('img/SocialMedia.png', bbox_inches = \"tight\");"
   ]
  },
  {
   "cell_type": "markdown",
   "metadata": {},
   "source": [
    "## Women vs. Stack Overflow"
   ]
  },
  {
   "cell_type": "markdown",
   "metadata": {},
   "source": [
    "Last but not least, how do these actively working women developers interact with Stack Overflow?"
   ]
  },
  {
   "cell_type": "markdown",
   "metadata": {},
   "source": [
    "First I need to know which columns are related with Stack Overflow in terms o questions, so:"
   ]
  },
  {
   "cell_type": "code",
   "execution_count": null,
   "metadata": {},
   "outputs": [],
   "source": [
    "search_question(schema, \"Stack Overflow\")"
   ]
  },
  {
   "cell_type": "markdown",
   "metadata": {},
   "source": [
    "Next, I'm going to copy a subset of questions from ***df_woman***.  \n",
    "This prevents me from messing with the data I've been wrangling, and be sure I'll keep this new DataFrame separate from ***df_woman***."
   ]
  },
  {
   "cell_type": "code",
   "execution_count": null,
   "metadata": {
    "scrolled": true
   },
   "outputs": [],
   "source": [
    "stackoverflow = df_woman[['Age', 'MainBranch', 'Employment', 'YearsCodePro',\n",
    "          'SOVisit1st', 'SOVisitFreq', 'SOVisitTo',\n",
    "          'SOFindAnswer', 'SOTimeSaved', 'SOHowMuchTime',\n",
    "          'SOAccount', 'SOPartFreq', 'SOJobs', 'EntTeams',\n",
    "          'SOComm', 'WelcomeChange', 'SONewContent']].copy()\n",
    "\n",
    "stackoverflow.head()"
   ]
  },
  {
   "cell_type": "markdown",
   "metadata": {},
   "source": [
    "How many women answered any of these questions?"
   ]
  },
  {
   "cell_type": "code",
   "execution_count": null,
   "metadata": {
    "scrolled": true
   },
   "outputs": [],
   "source": [
    "stackoverflow.shape[0]"
   ]
  },
  {
   "cell_type": "markdown",
   "metadata": {},
   "source": [
    "How many women didn\\'t answer some of these questions?"
   ]
  },
  {
   "cell_type": "code",
   "execution_count": null,
   "metadata": {},
   "outputs": [],
   "source": [
    "stackoverflow.isnull().sum().sum()"
   ]
  },
  {
   "cell_type": "markdown",
   "metadata": {},
   "source": [
    "Let's keep information from only those who answered all of the questions about Stack Overflow."
   ]
  },
  {
   "cell_type": "code",
   "execution_count": null,
   "metadata": {},
   "outputs": [],
   "source": [
    "stackoverflow.dropna(how='any', inplace=True)\n",
    "stackoverflow.shape[0]"
   ]
  },
  {
   "cell_type": "markdown",
   "metadata": {},
   "source": [
    "Now, I'd like to see if there's some relation between the first time they visited Stack Overflow (*SOVisit1st*), the years of coding professionally (*YearsCodePro*), and the frequency of participation in the community (*SOPartFreq*).\n",
    "\n",
    "First, let's take a look at the unique values for *YearsCodePro* and *SOVisit1st*."
   ]
  },
  {
   "cell_type": "code",
   "execution_count": null,
   "metadata": {
    "scrolled": true
   },
   "outputs": [],
   "source": [
    "stackoverflow['YearsCodePro'].unique()"
   ]
  },
  {
   "cell_type": "markdown",
   "metadata": {},
   "source": [
    "As we see in *YearsCodePro*, not all values can be converted to numbers.  \n",
    "To represent ```\"Less than 1 year\"```, I'm going to impute it with a ```0```, since less than 12 months don't make a full year."
   ]
  },
  {
   "cell_type": "code",
   "execution_count": null,
   "metadata": {
    "scrolled": false
   },
   "outputs": [],
   "source": [
    "stackoverflow['SOVisit1st'].unique()"
   ]
  },
  {
   "cell_type": "markdown",
   "metadata": {},
   "source": [
    "Again in *SOVisit1st*, not all values can be converted to numbers.  \n",
    "To represent ```\"I don't remember\"```, I'm going to impute it with ```2019```, when the survey was launched, based on the assumption that at least they visited SO to complete the survey."
   ]
  },
  {
   "cell_type": "markdown",
   "metadata": {},
   "source": [
    "I'm copying and imputing *YearsCodePro* in ***years_SO***. I also casted the values to ```integer``` to be able to perfom calculations with them in the next lines.  \n",
    "  \n",
    "Then I create the column *YearsSince1stVisitSO*, that stores how many years have passed between their first visit to SO and the year of the survey (2019).  \n",
    "  \n",
    "The next line is yet another column named *YearsCodePro+SO* that stores the differences between the years as professional developers and the years since the first visit to SO.  \n",
    "  \n",
    "Values for *YearsCodePro+SO* would be interpreted as follows:\n",
    " - negative: the developer has been *x* years working professionally without visiting SO  \n",
    "\n",
    "- positive: the developer has been *x* years working professionally visiting SO  "
   ]
  },
  {
   "cell_type": "code",
   "execution_count": null,
   "metadata": {
    "scrolled": true
   },
   "outputs": [],
   "source": [
    "# Copy, impute and store YearsCodePro in years_SO\n",
    "years_SO = stackoverflow[['YearsCodePro']].replace(\"Less than 1 year\", 0.5, regex=True).copy().astype(int)\n",
    "\n",
    "# Impute SOVisit1st, compute the difference between the year of the survey, cast it as integer,\n",
    "#and store it in years_SO as YearsSince1stVisitSO\n",
    "years_SO['YearsSince1stVisitSO'] = 2019 - stackoverflow['SOVisit1st']\\\n",
    ".replace(\"I don't remember\", 2019, regex=True).astype(int)\n",
    "\n",
    "# Compute the difference between YearsSince1stVisitSO and YearsCodePro\n",
    "years_SO['YearsCodePro+SO'] = years_SO['YearsSince1stVisitSO'] - years_SO['YearsCodePro']\n",
    "\n",
    "years_SO.head()"
   ]
  },
  {
   "cell_type": "markdown",
   "metadata": {},
   "source": [
    "We obtained the values as predicted before, but a better way to make sense of continuous data is by binning the data, same as did before for [Age vs. Social Media](#Age-vs.-Social-Media)."
   ]
  },
  {
   "cell_type": "markdown",
   "metadata": {},
   "source": [
    "Let's take a better look at the bins we're going to generate next:\n",
    "\n",
    " - Devs with 12 or more years of professional experience before their first visit: **(-inf, -12.0]**\n",
    " - Devs with 1 to almost 12 years of professional experience before their first visit: **(-12.0, -1.0]**\n",
    " - Devs who visited SO for the first time around the same time they started to work as developers, **(-1.0, 0.0]**\n",
    " - Devs who visited SO for the first time around the time they started to work as developers and as far as 3 years before that moment, **(0.0, 3.0]**\n",
    " - Devs who visited SO for the first time around 3 years before they started to work as developers and as far as 5 years before that moment, **(3.0, 5.0]**\n",
    " - Devs who visited SO for the first time more than 5 years before they started to work a developers, **(5.0, inf]**\n",
    " \n"
   ]
  },
  {
   "cell_type": "code",
   "execution_count": null,
   "metadata": {},
   "outputs": [],
   "source": [
    "bins = [-np.inf, -12, -1, 0, 3, 5, np.inf]\n",
    "names = ['12+ before SO', \n",
    "         '1-12 before SO', \n",
    "         'Work+SO same time', \n",
    "         '0 to 3 after SO', \n",
    "         '3-5 after SO',\n",
    "         '5+ after SO']\n",
    "\n",
    "years_SO['YearsCodePro+SO'] = pd.cut(years_SO['YearsCodePro+SO'], bins, labels=names)\n",
    "\n",
    "years_SO.head()"
   ]
  },
  {
   "cell_type": "markdown",
   "metadata": {},
   "source": [
    "I'm going to create another dictionary to keep track of the meaning of each bin. The purpose is using them later to get notes on this analysis."
   ]
  },
  {
   "cell_type": "code",
   "execution_count": null,
   "metadata": {},
   "outputs": [],
   "source": [
    "years_SO_dict = {}\n",
    "\n",
    "strs = ['devs with 12 or more years of professional experience before their first visit',\n",
    "        'devs with 1 to almost 12 years of professional experience before their first visit', \n",
    "        'devs who visited SO for the first time around the same time they started to work as developers', \n",
    "        'devs who visited SO for the first time around the time they started to work as developers and as far as 3 years before that moment', \n",
    "        'devs who visited SO for the first time around 3 years before they started to work as developers and as far as 5 years before that moment', \n",
    "        'devs who visited SO for the first time more than 5 years before they started to work a developers']\n",
    "\n",
    "for idx, name in enumerate(names):\n",
    "    years_SO_dict[name] = strs[idx]\n",
    "\n",
    "years_SO_dict"
   ]
  },
  {
   "cell_type": "markdown",
   "metadata": {},
   "source": [
    "In the next cell, I take the following steps:\n",
    " - create a dummy DataFrame for the *SOPartFreq*, this will assign ```1``` if the category is present in the row or not, and ```0``` if not,\n",
    " - store it in ***dummy_years***,\n",
    " - group by *YearsCodePro+SO*, to have the values for each bin I previously created, and last\n",
    " - take the mean percentages of the values."
   ]
  },
  {
   "cell_type": "code",
   "execution_count": null,
   "metadata": {
    "scrolled": false
   },
   "outputs": [],
   "source": [
    "dummies_years = pd.concat([years_SO['YearsCodePro+SO'], \n",
    "                           pd.get_dummies(stackoverflow['SOPartFreq'])], \n",
    "                          axis=1)\\\n",
    "                .groupby('YearsCodePro+SO').mean() * 100"
   ]
  },
  {
   "cell_type": "markdown",
   "metadata": {},
   "source": [
    "There's another thing that can help the visualization, the columns of ***dummy_years*** are actually ordinal variables.  \n",
    "Let's represent this by re-indexing the DataFrame with the provided list where I reordered the columns from more to less frequent."
   ]
  },
  {
   "cell_type": "code",
   "execution_count": null,
   "metadata": {
    "scrolled": false
   },
   "outputs": [],
   "source": [
    "dummies_years = dummies_years.reindex(['Multiple times per day',\n",
    "                       'Daily or almost daily',\n",
    "                       'A few times per week',\n",
    "                       'A few times per month or weekly',\n",
    "                       'Less than once per month or monthly',\n",
    "                       'I have never participated in Q&A on Stack Overflow'], axis=1)\n",
    "dummies_years"
   ]
  },
  {
   "cell_type": "markdown",
   "metadata": {},
   "source": [
    "Another way to visualize these values:"
   ]
  },
  {
   "cell_type": "code",
   "execution_count": null,
   "metadata": {},
   "outputs": [],
   "source": [
    "fig, ax = plt.subplots(figsize=(15, 8))\n",
    "ax = sns.heatmap(dummies_years, annot=True, fmt=\".2f\")\n",
    "for t in ax.texts: \n",
    "    t.set_text(t.get_text() + \"%\")\n",
    "plt.autoscale()\n",
    "plt.savefig('img/YearsSOandPro.png', bbox_inches = \"tight\");"
   ]
  },
  {
   "cell_type": "markdown",
   "metadata": {},
   "source": [
    "Great! Let's get the max frequencies for each group of developers:"
   ]
  },
  {
   "cell_type": "code",
   "execution_count": null,
   "metadata": {},
   "outputs": [],
   "source": [
    "years_SO_codePro = pd.DataFrame([dummies_years.T.idxmax(), round(dummies_years.T.max(), 2)], \n",
    "                               index=['Frequency of Participation', '% of users'])\n",
    "years_SO_codePro"
   ]
  },
  {
   "cell_type": "markdown",
   "metadata": {},
   "source": [
    "The probabilities highly suggest that actively working women developers, no matter how long they've been working as developers and have SO as a resource, visit the site less than once per month or monthly."
   ]
  },
  {
   "cell_type": "code",
   "execution_count": null,
   "metadata": {},
   "outputs": [],
   "source": [
    "years_SO_vals = [stackoverflow.shape[0]]\n",
    "\n",
    "for col in years_SO_codePro.columns:\n",
    "    years_SO_vals.append(years_SO_codePro[col]['% of users'])\n",
    "    years_SO_vals.append(years_SO_dict[col])\n",
    "    years_SO_vals.append(years_SO_codePro[col]['Frequency of Participation'].lower())\n",
    "    \n",
    "notes.append('When asked about their participation in Stack Overflow, {} actively working \\\n",
    "women developers provided the following insights:\\n\\\n",
    " - {}% {}, said to visit SO {},\\n\\\n",
    " - {}% {}, said to visit SO {},\\n\\\n",
    " - {}% {}, said to visit SO {},\\n\\\n",
    " - {}% {}, said to visit SO {},\\n\\\n",
    " - {}% {}, said to visit SO {},\\n\\\n",
    " - {}% {}, said to visit SO {}.'.format(*years_SO_vals))"
   ]
  },
  {
   "cell_type": "markdown",
   "metadata": {},
   "source": [
    "## Notes"
   ]
  },
  {
   "cell_type": "markdown",
   "metadata": {},
   "source": [
    "Finally, let's print all my notes, save it in a file and proceed to use it to write an article or communicate the insights with my team, friends, family, or you!"
   ]
  },
  {
   "cell_type": "code",
   "execution_count": null,
   "metadata": {},
   "outputs": [],
   "source": [
    "print(*notes, sep='\\n')"
   ]
  },
  {
   "cell_type": "code",
   "execution_count": null,
   "metadata": {},
   "outputs": [],
   "source": [
    "with open('women_SO_notes.txt', 'w') as file:\n",
    "    for line in notes:\n",
    "        file.write(\"%s \\n\" % line)"
   ]
  }
 ],
 "metadata": {
  "kernelspec": {
   "display_name": "Python 3",
   "language": "python",
   "name": "python3"
  },
  "language_info": {
   "codemirror_mode": {
    "name": "ipython",
    "version": 3
   },
   "file_extension": ".py",
   "mimetype": "text/x-python",
   "name": "python",
   "nbconvert_exporter": "python",
   "pygments_lexer": "ipython3",
   "version": "3.7.6"
  }
 },
 "nbformat": 4,
 "nbformat_minor": 4
}
